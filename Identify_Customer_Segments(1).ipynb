{
 "cells": [
  {
   "cell_type": "markdown",
   "metadata": {},
   "source": [
    "# Project: Identify Customer Segments\n",
    "\n",
    "In this project, you will apply unsupervised learning techniques to identify segments of the population that form the core customer base for a mail-order sales company in Germany. These segments can then be used to direct marketing campaigns towards audiences that will have the highest expected rate of returns. The data that you will use has been provided by our partners at Bertelsmann Arvato Analytics, and represents a real-life data science task.\n",
    "\n",
    "This notebook will help you complete this task by providing a framework within which you will perform your analysis steps. In each step of the project, you will see some text describing the subtask that you will perform, followed by one or more code cells for you to complete your work. **Feel free to add additional code and markdown cells as you go along so that you can explore everything in precise chunks.** The code cells provided in the base template will outline only the major tasks, and will usually not be enough to cover all of the minor tasks that comprise it.\n",
    "\n",
    "It should be noted that while there will be precise guidelines on how you should handle certain tasks in the project, there will also be places where an exact specification is not provided. **There will be times in the project where you will need to make and justify your own decisions on how to treat the data.** These are places where there may not be only one way to handle the data. In real-life tasks, there may be many valid ways to approach an analysis task. One of the most important things you can do is clearly document your approach so that other scientists can understand the decisions you've made.\n",
    "\n",
    "At the end of most sections, there will be a Markdown cell labeled **Discussion**. In these cells, you will report your findings for the completed section, as well as document the decisions that you made in your approach to each subtask. **Your project will be evaluated not just on the code used to complete the tasks outlined, but also your communication about your observations and conclusions at each stage.**"
   ]
  },
  {
   "cell_type": "code",
   "execution_count": 3,
   "metadata": {},
   "outputs": [
    {
     "data": {
      "text/plain": [
       "'\\nImport note: The classroom currently uses sklearn version 0.19.\\nIf you need to use an imputer, it is available in sklearn.preprocessing.Imputer,\\ninstead of sklearn.impute as in newer versions of sklearn.\\n'"
      ]
     },
     "execution_count": 3,
     "metadata": {},
     "output_type": "execute_result"
    }
   ],
   "source": [
    "# import libraries here; add more as necessary\n",
    "import numpy as np\n",
    "import pandas as pd\n",
    "import matplotlib.pyplot as plt\n",
    "import seaborn as sns\n",
    "from sklearn.preprocessing import Imputer\n",
    "from sklearn.preprocessing import StandardScaler\n",
    "from sklearn.decomposition import PCA\n",
    "from sklearn.cluster import KMeans\n",
    "\n",
    "# magic word for producing visualizations in notebook\n",
    "%matplotlib inline\n",
    "\n",
    "'''\n",
    "Import note: The classroom currently uses sklearn version 0.19.\n",
    "If you need to use an imputer, it is available in sklearn.preprocessing.Imputer,\n",
    "instead of sklearn.impute as in newer versions of sklearn.\n",
    "'''"
   ]
  },
  {
   "cell_type": "markdown",
   "metadata": {},
   "source": [
    "### Step 0: Load the Data\n",
    "\n",
    "There are four files associated with this project (not including this one):\n",
    "\n",
    "- `Udacity_AZDIAS_Subset.csv`: Demographics data for the general population of Germany; 891211 persons (rows) x 85 features (columns).\n",
    "- `Udacity_CUSTOMERS_Subset.csv`: Demographics data for customers of a mail-order company; 191652 persons (rows) x 85 features (columns).\n",
    "- `Data_Dictionary.md`: Detailed information file about the features in the provided datasets.\n",
    "- `AZDIAS_Feature_Summary.csv`: Summary of feature attributes for demographics data; 85 features (rows) x 4 columns\n",
    "\n",
    "Each row of the demographics files represents a single person, but also includes information outside of individuals, including information about their household, building, and neighborhood. You will use this information to cluster the general population into groups with similar demographic properties. Then, you will see how the people in the customers dataset fit into those created clusters. The hope here is that certain clusters are over-represented in the customers data, as compared to the general population; those over-represented clusters will be assumed to be part of the core userbase. This information can then be used for further applications, such as targeting for a marketing campaign.\n",
    "\n",
    "To start off with, load in the demographics data for the general population into a pandas DataFrame, and do the same for the feature attributes summary. Note for all of the `.csv` data files in this project: they're semicolon (`;`) delimited, so you'll need an additional argument in your [`read_csv()`](https://pandas.pydata.org/pandas-docs/stable/generated/pandas.read_csv.html) call to read in the data properly. Also, considering the size of the main dataset, it may take some time for it to load completely.\n",
    "\n",
    "Once the dataset is loaded, it's recommended that you take a little bit of time just browsing the general structure of the dataset and feature summary file. You'll be getting deep into the innards of the cleaning in the first major step of the project, so gaining some general familiarity can help you get your bearings."
   ]
  },
  {
   "cell_type": "code",
   "execution_count": 4,
   "metadata": {},
   "outputs": [],
   "source": [
    "# Load in the general demographics data.\n",
    "azdias = pd.read_csv(\"Udacity_AZDIAS_Subset.csv\", sep=';')\n",
    "# Load in the feature summary file.\n",
    "feat_info = pd.read_csv(\"AZDIAS_Feature_Summary.csv\", sep=';') "
   ]
  },
  {
   "cell_type": "code",
   "execution_count": 5,
   "metadata": {},
   "outputs": [
    {
     "name": "stdout",
     "output_type": "stream",
     "text": [
      "The number of rows:  891221\n",
      "The number of columns:  85\n"
     ]
    },
    {
     "data": {
      "text/html": [
       "<div>\n",
       "<style scoped>\n",
       "    .dataframe tbody tr th:only-of-type {\n",
       "        vertical-align: middle;\n",
       "    }\n",
       "\n",
       "    .dataframe tbody tr th {\n",
       "        vertical-align: top;\n",
       "    }\n",
       "\n",
       "    .dataframe thead th {\n",
       "        text-align: right;\n",
       "    }\n",
       "</style>\n",
       "<table border=\"1\" class=\"dataframe\">\n",
       "  <thead>\n",
       "    <tr style=\"text-align: right;\">\n",
       "      <th></th>\n",
       "      <th>AGER_TYP</th>\n",
       "      <th>ALTERSKATEGORIE_GROB</th>\n",
       "      <th>ANREDE_KZ</th>\n",
       "      <th>CJT_GESAMTTYP</th>\n",
       "      <th>FINANZ_MINIMALIST</th>\n",
       "      <th>FINANZ_SPARER</th>\n",
       "      <th>FINANZ_VORSORGER</th>\n",
       "      <th>FINANZ_ANLEGER</th>\n",
       "      <th>FINANZ_UNAUFFAELLIGER</th>\n",
       "      <th>FINANZ_HAUSBAUER</th>\n",
       "      <th>...</th>\n",
       "      <th>PLZ8_ANTG1</th>\n",
       "      <th>PLZ8_ANTG2</th>\n",
       "      <th>PLZ8_ANTG3</th>\n",
       "      <th>PLZ8_ANTG4</th>\n",
       "      <th>PLZ8_BAUMAX</th>\n",
       "      <th>PLZ8_HHZ</th>\n",
       "      <th>PLZ8_GBZ</th>\n",
       "      <th>ARBEIT</th>\n",
       "      <th>ORTSGR_KLS9</th>\n",
       "      <th>RELAT_AB</th>\n",
       "    </tr>\n",
       "  </thead>\n",
       "  <tbody>\n",
       "    <tr>\n",
       "      <th>0</th>\n",
       "      <td>-1</td>\n",
       "      <td>2</td>\n",
       "      <td>1</td>\n",
       "      <td>2.0</td>\n",
       "      <td>3</td>\n",
       "      <td>4</td>\n",
       "      <td>3</td>\n",
       "      <td>5</td>\n",
       "      <td>5</td>\n",
       "      <td>3</td>\n",
       "      <td>...</td>\n",
       "      <td>NaN</td>\n",
       "      <td>NaN</td>\n",
       "      <td>NaN</td>\n",
       "      <td>NaN</td>\n",
       "      <td>NaN</td>\n",
       "      <td>NaN</td>\n",
       "      <td>NaN</td>\n",
       "      <td>NaN</td>\n",
       "      <td>NaN</td>\n",
       "      <td>NaN</td>\n",
       "    </tr>\n",
       "    <tr>\n",
       "      <th>1</th>\n",
       "      <td>-1</td>\n",
       "      <td>1</td>\n",
       "      <td>2</td>\n",
       "      <td>5.0</td>\n",
       "      <td>1</td>\n",
       "      <td>5</td>\n",
       "      <td>2</td>\n",
       "      <td>5</td>\n",
       "      <td>4</td>\n",
       "      <td>5</td>\n",
       "      <td>...</td>\n",
       "      <td>2.0</td>\n",
       "      <td>3.0</td>\n",
       "      <td>2.0</td>\n",
       "      <td>1.0</td>\n",
       "      <td>1.0</td>\n",
       "      <td>5.0</td>\n",
       "      <td>4.0</td>\n",
       "      <td>3.0</td>\n",
       "      <td>5.0</td>\n",
       "      <td>4.0</td>\n",
       "    </tr>\n",
       "    <tr>\n",
       "      <th>2</th>\n",
       "      <td>-1</td>\n",
       "      <td>3</td>\n",
       "      <td>2</td>\n",
       "      <td>3.0</td>\n",
       "      <td>1</td>\n",
       "      <td>4</td>\n",
       "      <td>1</td>\n",
       "      <td>2</td>\n",
       "      <td>3</td>\n",
       "      <td>5</td>\n",
       "      <td>...</td>\n",
       "      <td>3.0</td>\n",
       "      <td>3.0</td>\n",
       "      <td>1.0</td>\n",
       "      <td>0.0</td>\n",
       "      <td>1.0</td>\n",
       "      <td>4.0</td>\n",
       "      <td>4.0</td>\n",
       "      <td>3.0</td>\n",
       "      <td>5.0</td>\n",
       "      <td>2.0</td>\n",
       "    </tr>\n",
       "  </tbody>\n",
       "</table>\n",
       "<p>3 rows × 85 columns</p>\n",
       "</div>"
      ],
      "text/plain": [
       "   AGER_TYP  ALTERSKATEGORIE_GROB  ANREDE_KZ  CJT_GESAMTTYP  \\\n",
       "0        -1                     2          1            2.0   \n",
       "1        -1                     1          2            5.0   \n",
       "2        -1                     3          2            3.0   \n",
       "\n",
       "   FINANZ_MINIMALIST  FINANZ_SPARER  FINANZ_VORSORGER  FINANZ_ANLEGER  \\\n",
       "0                  3              4                 3               5   \n",
       "1                  1              5                 2               5   \n",
       "2                  1              4                 1               2   \n",
       "\n",
       "   FINANZ_UNAUFFAELLIGER  FINANZ_HAUSBAUER    ...     PLZ8_ANTG1  PLZ8_ANTG2  \\\n",
       "0                      5                 3    ...            NaN         NaN   \n",
       "1                      4                 5    ...            2.0         3.0   \n",
       "2                      3                 5    ...            3.0         3.0   \n",
       "\n",
       "   PLZ8_ANTG3  PLZ8_ANTG4  PLZ8_BAUMAX  PLZ8_HHZ  PLZ8_GBZ  ARBEIT  \\\n",
       "0         NaN         NaN          NaN       NaN       NaN     NaN   \n",
       "1         2.0         1.0          1.0       5.0       4.0     3.0   \n",
       "2         1.0         0.0          1.0       4.0       4.0     3.0   \n",
       "\n",
       "   ORTSGR_KLS9  RELAT_AB  \n",
       "0          NaN       NaN  \n",
       "1          5.0       4.0  \n",
       "2          5.0       2.0  \n",
       "\n",
       "[3 rows x 85 columns]"
      ]
     },
     "execution_count": 5,
     "metadata": {},
     "output_type": "execute_result"
    }
   ],
   "source": [
    "# Check the structure of the data after it's loaded (e.g. print the number of\n",
    "# rows and columns, print the first few rows).\n",
    "# 1- print the number of rows and columns..\n",
    "print(\"The number of rows: \",len(azdias)) #rows\n",
    "print(\"The number of columns: \",len(azdias.columns)) #columns\n",
    "# 2- Print the first few rows\n",
    "azdias.iloc[:3]"
   ]
  },
  {
   "cell_type": "code",
   "execution_count": 6,
   "metadata": {},
   "outputs": [
    {
     "name": "stdout",
     "output_type": "stream",
     "text": [
      "The number of rows:  85\n",
      "The number of columns:  4\n"
     ]
    },
    {
     "data": {
      "text/html": [
       "<div>\n",
       "<style scoped>\n",
       "    .dataframe tbody tr th:only-of-type {\n",
       "        vertical-align: middle;\n",
       "    }\n",
       "\n",
       "    .dataframe tbody tr th {\n",
       "        vertical-align: top;\n",
       "    }\n",
       "\n",
       "    .dataframe thead th {\n",
       "        text-align: right;\n",
       "    }\n",
       "</style>\n",
       "<table border=\"1\" class=\"dataframe\">\n",
       "  <thead>\n",
       "    <tr style=\"text-align: right;\">\n",
       "      <th></th>\n",
       "      <th>attribute</th>\n",
       "      <th>information_level</th>\n",
       "      <th>type</th>\n",
       "      <th>missing_or_unknown</th>\n",
       "    </tr>\n",
       "  </thead>\n",
       "  <tbody>\n",
       "    <tr>\n",
       "      <th>0</th>\n",
       "      <td>AGER_TYP</td>\n",
       "      <td>person</td>\n",
       "      <td>categorical</td>\n",
       "      <td>[-1,0]</td>\n",
       "    </tr>\n",
       "    <tr>\n",
       "      <th>1</th>\n",
       "      <td>ALTERSKATEGORIE_GROB</td>\n",
       "      <td>person</td>\n",
       "      <td>ordinal</td>\n",
       "      <td>[-1,0,9]</td>\n",
       "    </tr>\n",
       "    <tr>\n",
       "      <th>2</th>\n",
       "      <td>ANREDE_KZ</td>\n",
       "      <td>person</td>\n",
       "      <td>categorical</td>\n",
       "      <td>[-1,0]</td>\n",
       "    </tr>\n",
       "  </tbody>\n",
       "</table>\n",
       "</div>"
      ],
      "text/plain": [
       "              attribute information_level         type missing_or_unknown\n",
       "0              AGER_TYP            person  categorical             [-1,0]\n",
       "1  ALTERSKATEGORIE_GROB            person      ordinal           [-1,0,9]\n",
       "2             ANREDE_KZ            person  categorical             [-1,0]"
      ]
     },
     "execution_count": 6,
     "metadata": {},
     "output_type": "execute_result"
    }
   ],
   "source": [
    "# 1- print the number of rows and columns..\n",
    "print(\"The number of rows: \",len(feat_info)) #rows\n",
    "print(\"The number of columns: \",len(feat_info.columns)) #columns\n",
    "# 2- Print the first few rows\n",
    "feat_info.iloc[:3]"
   ]
  },
  {
   "cell_type": "markdown",
   "metadata": {},
   "source": [
    "> **Tip**: Add additional cells to keep everything in reasonably-sized chunks! Keyboard shortcut `esc --> a` (press escape to enter command mode, then press the 'A' key) adds a new cell before the active cell, and `esc --> b` adds a new cell after the active cell. If you need to convert an active cell to a markdown cell, use `esc --> m` and to convert to a code cell, use `esc --> y`. \n",
    "\n",
    "## Step 1: Preprocessing\n",
    "\n",
    "### Step 1.1: Assess Missing Data\n",
    "\n",
    "The feature summary file contains a summary of properties for each demographics data column. You will use this file to help you make cleaning decisions during this stage of the project. First of all, you should assess the demographics data in terms of missing data. Pay attention to the following points as you perform your analysis, and take notes on what you observe. Make sure that you fill in the **Discussion** cell with your findings and decisions at the end of each step that has one!\n",
    "\n",
    "#### Step 1.1.1: Convert Missing Value Codes to NaNs\n",
    "The fourth column of the feature attributes summary (loaded in above as `feat_info`) documents the codes from the data dictionary that indicate missing or unknown data. While the file encodes this as a list (e.g. `[-1,0]`), this will get read in as a string object. You'll need to do a little bit of parsing to make use of it to identify and clean the data. Convert data that matches a 'missing' or 'unknown' value code into a numpy NaN value. You might want to see how much data takes on a 'missing' or 'unknown' code, and how much data is naturally missing, as a point of interest.\n",
    "\n",
    "**As one more reminder, you are encouraged to add additional cells to break up your analysis into manageable chunks.**"
   ]
  },
  {
   "cell_type": "code",
   "execution_count": 7,
   "metadata": {},
   "outputs": [
    {
     "data": {
      "text/plain": [
       "AGER_TYP                      0\n",
       "ALTERSKATEGORIE_GROB          0\n",
       "ANREDE_KZ                     0\n",
       "CJT_GESAMTTYP              4854\n",
       "FINANZ_MINIMALIST             0\n",
       "FINANZ_SPARER                 0\n",
       "FINANZ_VORSORGER              0\n",
       "FINANZ_ANLEGER                0\n",
       "FINANZ_UNAUFFAELLIGER         0\n",
       "FINANZ_HAUSBAUER              0\n",
       "FINANZTYP                     0\n",
       "GEBURTSJAHR                   0\n",
       "GFK_URLAUBERTYP            4854\n",
       "GREEN_AVANTGARDE              0\n",
       "HEALTH_TYP                    0\n",
       "LP_LEBENSPHASE_FEIN        4854\n",
       "LP_LEBENSPHASE_GROB        4854\n",
       "LP_FAMILIE_FEIN            4854\n",
       "LP_FAMILIE_GROB            4854\n",
       "LP_STATUS_FEIN             4854\n",
       "LP_STATUS_GROB             4854\n",
       "NATIONALITAET_KZ              0\n",
       "PRAEGENDE_JUGENDJAHRE         0\n",
       "RETOURTYP_BK_S             4854\n",
       "SEMIO_SOZ                     0\n",
       "SEMIO_FAM                     0\n",
       "SEMIO_REL                     0\n",
       "SEMIO_MAT                     0\n",
       "SEMIO_VERT                    0\n",
       "SEMIO_LUST                    0\n",
       "                          ...  \n",
       "OST_WEST_KZ               93148\n",
       "WOHNLAGE                  93148\n",
       "CAMEO_DEUG_2015           98979\n",
       "CAMEO_DEU_2015            98979\n",
       "CAMEO_INTL_2015           98979\n",
       "KBA05_ANTG1              133324\n",
       "KBA05_ANTG2              133324\n",
       "KBA05_ANTG3              133324\n",
       "KBA05_ANTG4              133324\n",
       "KBA05_BAUMAX             133324\n",
       "KBA05_GBZ                133324\n",
       "BALLRAUM                  93740\n",
       "EWDICHTE                  93740\n",
       "INNENSTADT                93740\n",
       "GEBAEUDETYP_RASTER        93155\n",
       "KKK                      121196\n",
       "MOBI_REGIO               133324\n",
       "ONLINE_AFFINITAET          4854\n",
       "REGIOTYP                 121196\n",
       "KBA13_ANZAHL_PKW         105800\n",
       "PLZ8_ANTG1               116515\n",
       "PLZ8_ANTG2               116515\n",
       "PLZ8_ANTG3               116515\n",
       "PLZ8_ANTG4               116515\n",
       "PLZ8_BAUMAX              116515\n",
       "PLZ8_HHZ                 116515\n",
       "PLZ8_GBZ                 116515\n",
       "ARBEIT                    97216\n",
       "ORTSGR_KLS9               97216\n",
       "RELAT_AB                  97216\n",
       "Length: 85, dtype: int64"
      ]
     },
     "execution_count": 7,
     "metadata": {},
     "output_type": "execute_result"
    }
   ],
   "source": [
    "azdias.isna().sum()"
   ]
  },
  {
   "cell_type": "code",
   "execution_count": 8,
   "metadata": {},
   "outputs": [],
   "source": [
    "# Identify missing or unknown data values and convert them to NaNs.\n",
    "for i in range (len(feat_info)):\n",
    "    g = feat_info['missing_or_unknown'][i].strip('[')\n",
    "    g = g.strip(']')\n",
    "    if g != \"\": \n",
    "        g = g.split(',')\n",
    "        attr = feat_info['attribute'][i]\n",
    "        for j in range (len(g)):\n",
    "            contains_digit = any(map(str.isdigit, g[j]))\n",
    "            if contains_digit == True:\n",
    "                azdias[attr] = azdias[attr].replace(int(g[j]),np.nan)#inplace= True\n",
    "            else:\n",
    "                azdias[attr] = azdias[attr].replace(str(g[j]),np.nan)#inplace= True"
   ]
  },
  {
   "cell_type": "code",
   "execution_count": 9,
   "metadata": {},
   "outputs": [
    {
     "data": {
      "text/html": [
       "<div>\n",
       "<style scoped>\n",
       "    .dataframe tbody tr th:only-of-type {\n",
       "        vertical-align: middle;\n",
       "    }\n",
       "\n",
       "    .dataframe tbody tr th {\n",
       "        vertical-align: top;\n",
       "    }\n",
       "\n",
       "    .dataframe thead th {\n",
       "        text-align: right;\n",
       "    }\n",
       "</style>\n",
       "<table border=\"1\" class=\"dataframe\">\n",
       "  <thead>\n",
       "    <tr style=\"text-align: right;\">\n",
       "      <th></th>\n",
       "      <th>AGER_TYP</th>\n",
       "      <th>ALTERSKATEGORIE_GROB</th>\n",
       "      <th>ANREDE_KZ</th>\n",
       "      <th>CJT_GESAMTTYP</th>\n",
       "      <th>FINANZ_MINIMALIST</th>\n",
       "      <th>FINANZ_SPARER</th>\n",
       "      <th>FINANZ_VORSORGER</th>\n",
       "      <th>FINANZ_ANLEGER</th>\n",
       "      <th>FINANZ_UNAUFFAELLIGER</th>\n",
       "      <th>FINANZ_HAUSBAUER</th>\n",
       "      <th>...</th>\n",
       "      <th>PLZ8_ANTG1</th>\n",
       "      <th>PLZ8_ANTG2</th>\n",
       "      <th>PLZ8_ANTG3</th>\n",
       "      <th>PLZ8_ANTG4</th>\n",
       "      <th>PLZ8_BAUMAX</th>\n",
       "      <th>PLZ8_HHZ</th>\n",
       "      <th>PLZ8_GBZ</th>\n",
       "      <th>ARBEIT</th>\n",
       "      <th>ORTSGR_KLS9</th>\n",
       "      <th>RELAT_AB</th>\n",
       "    </tr>\n",
       "  </thead>\n",
       "  <tbody>\n",
       "    <tr>\n",
       "      <th>0</th>\n",
       "      <td>NaN</td>\n",
       "      <td>2.0</td>\n",
       "      <td>1</td>\n",
       "      <td>2.0</td>\n",
       "      <td>3</td>\n",
       "      <td>4</td>\n",
       "      <td>3</td>\n",
       "      <td>5</td>\n",
       "      <td>5</td>\n",
       "      <td>3</td>\n",
       "      <td>...</td>\n",
       "      <td>NaN</td>\n",
       "      <td>NaN</td>\n",
       "      <td>NaN</td>\n",
       "      <td>NaN</td>\n",
       "      <td>NaN</td>\n",
       "      <td>NaN</td>\n",
       "      <td>NaN</td>\n",
       "      <td>NaN</td>\n",
       "      <td>NaN</td>\n",
       "      <td>NaN</td>\n",
       "    </tr>\n",
       "    <tr>\n",
       "      <th>1</th>\n",
       "      <td>NaN</td>\n",
       "      <td>1.0</td>\n",
       "      <td>2</td>\n",
       "      <td>5.0</td>\n",
       "      <td>1</td>\n",
       "      <td>5</td>\n",
       "      <td>2</td>\n",
       "      <td>5</td>\n",
       "      <td>4</td>\n",
       "      <td>5</td>\n",
       "      <td>...</td>\n",
       "      <td>2.0</td>\n",
       "      <td>3.0</td>\n",
       "      <td>2.0</td>\n",
       "      <td>1.0</td>\n",
       "      <td>1.0</td>\n",
       "      <td>5.0</td>\n",
       "      <td>4.0</td>\n",
       "      <td>3.0</td>\n",
       "      <td>5.0</td>\n",
       "      <td>4.0</td>\n",
       "    </tr>\n",
       "    <tr>\n",
       "      <th>2</th>\n",
       "      <td>NaN</td>\n",
       "      <td>3.0</td>\n",
       "      <td>2</td>\n",
       "      <td>3.0</td>\n",
       "      <td>1</td>\n",
       "      <td>4</td>\n",
       "      <td>1</td>\n",
       "      <td>2</td>\n",
       "      <td>3</td>\n",
       "      <td>5</td>\n",
       "      <td>...</td>\n",
       "      <td>3.0</td>\n",
       "      <td>3.0</td>\n",
       "      <td>1.0</td>\n",
       "      <td>0.0</td>\n",
       "      <td>1.0</td>\n",
       "      <td>4.0</td>\n",
       "      <td>4.0</td>\n",
       "      <td>3.0</td>\n",
       "      <td>5.0</td>\n",
       "      <td>2.0</td>\n",
       "    </tr>\n",
       "  </tbody>\n",
       "</table>\n",
       "<p>3 rows × 85 columns</p>\n",
       "</div>"
      ],
      "text/plain": [
       "   AGER_TYP  ALTERSKATEGORIE_GROB  ANREDE_KZ  CJT_GESAMTTYP  \\\n",
       "0       NaN                   2.0          1            2.0   \n",
       "1       NaN                   1.0          2            5.0   \n",
       "2       NaN                   3.0          2            3.0   \n",
       "\n",
       "   FINANZ_MINIMALIST  FINANZ_SPARER  FINANZ_VORSORGER  FINANZ_ANLEGER  \\\n",
       "0                  3              4                 3               5   \n",
       "1                  1              5                 2               5   \n",
       "2                  1              4                 1               2   \n",
       "\n",
       "   FINANZ_UNAUFFAELLIGER  FINANZ_HAUSBAUER    ...     PLZ8_ANTG1  PLZ8_ANTG2  \\\n",
       "0                      5                 3    ...            NaN         NaN   \n",
       "1                      4                 5    ...            2.0         3.0   \n",
       "2                      3                 5    ...            3.0         3.0   \n",
       "\n",
       "   PLZ8_ANTG3  PLZ8_ANTG4  PLZ8_BAUMAX  PLZ8_HHZ  PLZ8_GBZ  ARBEIT  \\\n",
       "0         NaN         NaN          NaN       NaN       NaN     NaN   \n",
       "1         2.0         1.0          1.0       5.0       4.0     3.0   \n",
       "2         1.0         0.0          1.0       4.0       4.0     3.0   \n",
       "\n",
       "   ORTSGR_KLS9  RELAT_AB  \n",
       "0          NaN       NaN  \n",
       "1          5.0       4.0  \n",
       "2          5.0       2.0  \n",
       "\n",
       "[3 rows x 85 columns]"
      ]
     },
     "execution_count": 9,
     "metadata": {},
     "output_type": "execute_result"
    }
   ],
   "source": [
    "azdias.head(3)"
   ]
  },
  {
   "cell_type": "markdown",
   "metadata": {},
   "source": [
    "#### Step 1.1.2: Assess Missing Data in Each Column\n",
    "\n",
    "How much missing data is present in each column? There are a few columns that are outliers in terms of the proportion of values that are missing. You will want to use matplotlib's [`hist()`](https://matplotlib.org/api/_as_gen/matplotlib.pyplot.hist.html) function to visualize the distribution of missing value counts to find these columns. Identify and document these columns. While some of these columns might have justifications for keeping or re-encoding the data, for this project you should just remove them from the dataframe. (Feel free to make remarks about these outlier columns in the discussion, however!)\n",
    "\n",
    "For the remaining features, are there any patterns in which columns have, or share, missing data?"
   ]
  },
  {
   "cell_type": "code",
   "execution_count": 10,
   "metadata": {},
   "outputs": [],
   "source": [
    "# Perform an assessment of how much missing data there is in each column of the dataset.\n",
    "missing_in_col = azdias.isnull().mean().round(4) * 100\n",
    "#missing_in_col"
   ]
  },
  {
   "cell_type": "code",
   "execution_count": 11,
   "metadata": {},
   "outputs": [
    {
     "data": {
      "image/png": "[encoded data removed]",
      "text/plain": [
       "<matplotlib.figure.Figure at 0x7ff150693e10>"
      ]
     },
     "metadata": {
      "needs_background": "light"
     },
     "output_type": "display_data"
    }
   ],
   "source": [
    "# Investigate patterns in the amount of missing data in each column.\n",
    "m_i_c= missing_in_col.sort_values()\n",
    "fig = plt.figure(figsize=(30,10))\n",
    "m_i_c.plot.bar()\n",
    "plt.ylabel('perc%')\n",
    "plt.xlabel('column\\'s name')\n",
    "plt.title('missing data')\n",
    "plt.show()"
   ]
  },
  {
   "cell_type": "code",
   "execution_count": 12,
   "metadata": {},
   "outputs": [],
   "source": [
    "# Remove the outlier columns from the dataset. (You'll perform other data\n",
    "# engineering tasks such as re-encoding and imputation later.)\n",
    "dell_column = []\n",
    "for i in range (len(feat_info)):\n",
    "    attr = feat_info['attribute'][i]\n",
    "    if missing_in_col[attr] >= 50: # If missing values in  a column are 50% or more drop the column..\n",
    "        azdias = azdias.drop(attr, axis = 1)\n",
    "        dell_column.append(attr)\n",
    "        #print(missing_in_col[attr])\n",
    "#azdias"
   ]
  },
  {
   "cell_type": "code",
   "execution_count": 13,
   "metadata": {},
   "outputs": [
    {
     "data": {
      "text/plain": [
       "['AGER_TYP', 'TITEL_KZ', 'KK_KUNDENTYP', 'KBA05_BAUMAX']"
      ]
     },
     "execution_count": 13,
     "metadata": {},
     "output_type": "execute_result"
    }
   ],
   "source": [
    "dell_column"
   ]
  },
  {
   "cell_type": "code",
   "execution_count": 14,
   "metadata": {},
   "outputs": [
    {
     "data": {
      "text/plain": [
       "AGER_TYP        76.96\n",
       "TITEL_KZ        99.76\n",
       "KK_KUNDENTYP    65.60\n",
       "KBA05_BAUMAX    53.47\n",
       "dtype: float64"
      ]
     },
     "execution_count": 14,
     "metadata": {},
     "output_type": "execute_result"
    }
   ],
   "source": [
    "missing_in_col[missing_in_col >= 50]"
   ]
  },
  {
   "cell_type": "markdown",
   "metadata": {},
   "source": [
    "#### Discussion 1.1.2: Assess Missing Data in Each Column\n",
    "\n",
    "After converting all missing/unknown data with NaN's, there were 4 columns which has 50% or more NaN's values. The four columns are: \n",
    "1- AGER_TYP (76% Nan's), \n",
    "2- TITEL_KZ (99.76% Nan's),\n",
    "3- KK_KUNDENTYP (65.6% Nan's),\n",
    "4- KBA05_BAUMAX (53.47% Nan's).\n",
    "According to the high percentage of NaN's in each column, all of the previose will be deleted."
   ]
  },
  {
   "cell_type": "markdown",
   "metadata": {},
   "source": [
    "#### Step 1.1.3: Assess Missing Data in Each Row\n",
    "\n",
    "Now, you'll perform a similar assessment for the rows of the dataset. How much data is missing in each row? As with the columns, you should see some groups of points that have a very different numbers of missing values. Divide the data into two subsets: one for data points that are above some threshold for missing values, and a second subset for points below that threshold.\n",
    "\n",
    "In order to know what to do with the outlier rows, we should see if the distribution of data values on columns that are not missing data (or are missing very little data) are similar or different between the two groups. Select at least five of these columns and compare the distribution of values.\n",
    "- You can use seaborn's [`countplot()`](https://seaborn.pydata.org/generated/seaborn.countplot.html) function to create a bar chart of code frequencies and matplotlib's [`subplot()`](https://matplotlib.org/api/_as_gen/matplotlib.pyplot.subplot.html) function to put bar charts for the two subplots side by side.\n",
    "- To reduce repeated code, you might want to write a function that can perform this comparison, taking as one of its arguments a column to be compared.\n",
    "\n",
    "Depending on what you observe in your comparison, this will have implications on how you approach your conclusions later in the analysis. If the distributions of non-missing features look similar between the data with many missing values and the data with few or no missing values, then we could argue that simply dropping those points from the analysis won't present a major issue. On the other hand, if the data with many missing values looks very different from the data with few or no missing values, then we should make a note on those data as special. We'll revisit these data later on. **Either way, you should continue your analysis for now using just the subset of the data with few or no missing values.**"
   ]
  },
  {
   "cell_type": "code",
   "execution_count": 15,
   "metadata": {},
   "outputs": [
    {
     "data": {
      "text/plain": [
       "0         55.56\n",
       "1          1.23\n",
       "2          0.00\n",
       "3          8.64\n",
       "4          0.00\n",
       "5          0.00\n",
       "6          2.47\n",
       "7          0.00\n",
       "8          0.00\n",
       "9          0.00\n",
       "10         0.00\n",
       "11        60.49\n",
       "12         8.64\n",
       "13         9.88\n",
       "14        60.49\n",
       "15         9.88\n",
       "16         7.41\n",
       "17        60.49\n",
       "18         6.17\n",
       "19         2.47\n",
       "20        14.81\n",
       "21         2.47\n",
       "22         2.47\n",
       "23        11.11\n",
       "24        60.49\n",
       "25         6.17\n",
       "26        25.93\n",
       "27         1.23\n",
       "28         0.00\n",
       "29         2.47\n",
       "          ...  \n",
       "891191     0.00\n",
       "891192     1.23\n",
       "891193     0.00\n",
       "891194     0.00\n",
       "891195     1.23\n",
       "891196     0.00\n",
       "891197     0.00\n",
       "891198     0.00\n",
       "891199     2.47\n",
       "891200     1.23\n",
       "891201     0.00\n",
       "891202     2.47\n",
       "891203    19.75\n",
       "891204     0.00\n",
       "891205     0.00\n",
       "891206     0.00\n",
       "891207     0.00\n",
       "891208     3.70\n",
       "891209     2.47\n",
       "891210     2.47\n",
       "891211     0.00\n",
       "891212     1.23\n",
       "891213     0.00\n",
       "891214     0.00\n",
       "891215     2.47\n",
       "891216     3.70\n",
       "891217     4.94\n",
       "891218     6.17\n",
       "891219     1.23\n",
       "891220     2.47\n",
       "Length: 891221, dtype: float64"
      ]
     },
     "execution_count": 15,
     "metadata": {},
     "output_type": "execute_result"
    }
   ],
   "source": [
    "# How much data is missing in each row of the dataset?\n",
    "nulls_in_rows = azdias.isnull().mean(axis=1).round(4)*100\n",
    "nulls_in_rows"
   ]
  },
  {
   "cell_type": "code",
   "execution_count": 16,
   "metadata": {},
   "outputs": [],
   "source": [
    "# Write code to divide the data into two subsets based on the number of missing\n",
    "# values in each row.\n",
    "not_null_values = azdias[azdias.isnull().mean(axis=1)*100 < 25]\n",
    "null_values = azdias[azdias.isnull().mean(axis=1)*100 >= 25]"
   ]
  },
  {
   "cell_type": "code",
   "execution_count": 17,
   "metadata": {},
   "outputs": [
    {
     "name": "stdout",
     "output_type": "stream",
     "text": [
      "(796960, 81)\n",
      "(94261, 81)\n"
     ]
    }
   ],
   "source": [
    "print(not_null_values.shape)\n",
    "print(null_values.shape)"
   ]
  },
  {
   "cell_type": "code",
   "execution_count": 18,
   "metadata": {},
   "outputs": [
    {
     "data": {
      "image/png": "[encoded data removed]",
      "text/plain": [
       "<matplotlib.figure.Figure at 0x7ff14e18a390>"
      ]
     },
     "metadata": {
      "needs_background": "light"
     },
     "output_type": "display_data"
    },
    {
     "data": {
      "image/png": "[encoded data removed]",
      "text/plain": [
       "<matplotlib.figure.Figure at 0x7ff14e24fbe0>"
      ]
     },
     "metadata": {
      "needs_background": "light"
     },
     "output_type": "display_data"
    },
    {
     "data": {
      "image/png": "[encoded data removed]",
      "text/plain": [
       "<matplotlib.figure.Figure at 0x7ff14c835ef0>"
      ]
     },
     "metadata": {
      "needs_background": "light"
     },
     "output_type": "display_data"
    },
    {
     "data": {
      "image/png": "[encoded data removed]",
      "text/plain": [
       "<matplotlib.figure.Figure at 0x7ff14c8ee630>"
      ]
     },
     "metadata": {
      "needs_background": "light"
     },
     "output_type": "display_data"
    },
    {
     "data": {
      "image/png": "[encoded data removed]",
      "text/plain": [
       "<matplotlib.figure.Figure at 0x7ff14c7802e8>"
      ]
     },
     "metadata": {
      "needs_background": "light"
     },
     "output_type": "display_data"
    }
   ],
   "source": [
    "# Compare the distribution of values for at least five columns where there are\n",
    "# no or few missing values, between the two subsets.\n",
    "# 1- Column's Name: ALTERSKATEGORIE_GROB\n",
    "plt.subplot(1,2,1)\n",
    "plt.title(\"not_null_values\")\n",
    "ax = sns.countplot(x=\"ALTERSKATEGORIE_GROB\", data=not_null_values)\n",
    "plt.subplot(1,2,2)\n",
    "plt.title(\"null_values\")\n",
    "ax = sns.countplot(x=\"ALTERSKATEGORIE_GROB\", data=null_values)\n",
    "plt.tight_layout(pad = 3)\n",
    "plt.show()\n",
    "\n",
    "# 2- Column's Name: FINANZ_VORSORGER\n",
    "plt.subplot(1,2,1)\n",
    "plt.title(\"not_null_values\")\n",
    "ax = sns.countplot(x=\"FINANZ_VORSORGER\", data=not_null_values)\n",
    "plt.subplot(1,2,2)\n",
    "plt.title(\"null_values\")\n",
    "ax = sns.countplot(x=\"FINANZ_VORSORGER\", data=null_values)\n",
    "plt.tight_layout(pad = 3)\n",
    "plt.show()\n",
    "\n",
    "# 3- Column's Name: PLZ8_ANTG1\n",
    "plt.subplot(1,2,1)\n",
    "plt.title(\"not_null_values\")\n",
    "ax = sns.countplot(x=\"RETOURTYP_BK_S\", data=not_null_values)\n",
    "plt.subplot(1,2,2)\n",
    "plt.title(\"null_values\")\n",
    "ax = sns.countplot(x=\"RETOURTYP_BK_S\", data=null_values)\n",
    "plt.tight_layout(pad = 3)\n",
    "plt.show()\n",
    "\n",
    "# 4- Column's Name: ARBEIT\n",
    "plt.subplot(1,2,1)\n",
    "plt.title(\"not_null_values\")\n",
    "ax = sns.countplot(x=\"ARBEIT\", data=not_null_values)\n",
    "plt.subplot(1,2,2)\n",
    "plt.title(\"null_values\")\n",
    "ax = sns.countplot(x=\"ARBEIT\", data=null_values)\n",
    "plt.tight_layout(pad = 3)\n",
    "plt.show()\n",
    "\n",
    "# 5- Column's Name: ORTSGR_KLS9\n",
    "plt.subplot(1,2,1)\n",
    "plt.title(\"not_null_values\")\n",
    "ax = sns.countplot(x=\"ORTSGR_KLS9\", data=not_null_values)\n",
    "plt.subplot(1,2,2)\n",
    "plt.title(\"null_values\")\n",
    "ax = sns.countplot(x=\"ORTSGR_KLS9\", data=null_values)\n",
    "plt.tight_layout(pad = 3)\n",
    "plt.show()"
   ]
  },
  {
   "cell_type": "code",
   "execution_count": 19,
   "metadata": {},
   "outputs": [
    {
     "data": {
      "text/html": [
       "<div>\n",
       "<style scoped>\n",
       "    .dataframe tbody tr th:only-of-type {\n",
       "        vertical-align: middle;\n",
       "    }\n",
       "\n",
       "    .dataframe tbody tr th {\n",
       "        vertical-align: top;\n",
       "    }\n",
       "\n",
       "    .dataframe thead th {\n",
       "        text-align: right;\n",
       "    }\n",
       "</style>\n",
       "<table border=\"1\" class=\"dataframe\">\n",
       "  <thead>\n",
       "    <tr style=\"text-align: right;\">\n",
       "      <th></th>\n",
       "      <th>ALTERSKATEGORIE_GROB</th>\n",
       "      <th>ANREDE_KZ</th>\n",
       "      <th>CJT_GESAMTTYP</th>\n",
       "      <th>FINANZ_MINIMALIST</th>\n",
       "      <th>FINANZ_SPARER</th>\n",
       "      <th>FINANZ_VORSORGER</th>\n",
       "      <th>FINANZ_ANLEGER</th>\n",
       "      <th>FINANZ_UNAUFFAELLIGER</th>\n",
       "      <th>FINANZ_HAUSBAUER</th>\n",
       "      <th>FINANZTYP</th>\n",
       "      <th>...</th>\n",
       "      <th>PLZ8_ANTG1</th>\n",
       "      <th>PLZ8_ANTG2</th>\n",
       "      <th>PLZ8_ANTG3</th>\n",
       "      <th>PLZ8_ANTG4</th>\n",
       "      <th>PLZ8_BAUMAX</th>\n",
       "      <th>PLZ8_HHZ</th>\n",
       "      <th>PLZ8_GBZ</th>\n",
       "      <th>ARBEIT</th>\n",
       "      <th>ORTSGR_KLS9</th>\n",
       "      <th>RELAT_AB</th>\n",
       "    </tr>\n",
       "  </thead>\n",
       "  <tbody>\n",
       "    <tr>\n",
       "      <th>1</th>\n",
       "      <td>1.0</td>\n",
       "      <td>2</td>\n",
       "      <td>5.0</td>\n",
       "      <td>1</td>\n",
       "      <td>5</td>\n",
       "      <td>2</td>\n",
       "      <td>5</td>\n",
       "      <td>4</td>\n",
       "      <td>5</td>\n",
       "      <td>1</td>\n",
       "      <td>...</td>\n",
       "      <td>2.0</td>\n",
       "      <td>3.0</td>\n",
       "      <td>2.0</td>\n",
       "      <td>1.0</td>\n",
       "      <td>1.0</td>\n",
       "      <td>5.0</td>\n",
       "      <td>4.0</td>\n",
       "      <td>3.0</td>\n",
       "      <td>5.0</td>\n",
       "      <td>4.0</td>\n",
       "    </tr>\n",
       "    <tr>\n",
       "      <th>2</th>\n",
       "      <td>3.0</td>\n",
       "      <td>2</td>\n",
       "      <td>3.0</td>\n",
       "      <td>1</td>\n",
       "      <td>4</td>\n",
       "      <td>1</td>\n",
       "      <td>2</td>\n",
       "      <td>3</td>\n",
       "      <td>5</td>\n",
       "      <td>1</td>\n",
       "      <td>...</td>\n",
       "      <td>3.0</td>\n",
       "      <td>3.0</td>\n",
       "      <td>1.0</td>\n",
       "      <td>0.0</td>\n",
       "      <td>1.0</td>\n",
       "      <td>4.0</td>\n",
       "      <td>4.0</td>\n",
       "      <td>3.0</td>\n",
       "      <td>5.0</td>\n",
       "      <td>2.0</td>\n",
       "    </tr>\n",
       "    <tr>\n",
       "      <th>3</th>\n",
       "      <td>4.0</td>\n",
       "      <td>2</td>\n",
       "      <td>2.0</td>\n",
       "      <td>4</td>\n",
       "      <td>2</td>\n",
       "      <td>5</td>\n",
       "      <td>2</td>\n",
       "      <td>1</td>\n",
       "      <td>2</td>\n",
       "      <td>6</td>\n",
       "      <td>...</td>\n",
       "      <td>2.0</td>\n",
       "      <td>2.0</td>\n",
       "      <td>2.0</td>\n",
       "      <td>0.0</td>\n",
       "      <td>1.0</td>\n",
       "      <td>3.0</td>\n",
       "      <td>4.0</td>\n",
       "      <td>2.0</td>\n",
       "      <td>3.0</td>\n",
       "      <td>3.0</td>\n",
       "    </tr>\n",
       "  </tbody>\n",
       "</table>\n",
       "<p>3 rows × 81 columns</p>\n",
       "</div>"
      ],
      "text/plain": [
       "   ALTERSKATEGORIE_GROB  ANREDE_KZ  CJT_GESAMTTYP  FINANZ_MINIMALIST  \\\n",
       "1                   1.0          2            5.0                  1   \n",
       "2                   3.0          2            3.0                  1   \n",
       "3                   4.0          2            2.0                  4   \n",
       "\n",
       "   FINANZ_SPARER  FINANZ_VORSORGER  FINANZ_ANLEGER  FINANZ_UNAUFFAELLIGER  \\\n",
       "1              5                 2               5                      4   \n",
       "2              4                 1               2                      3   \n",
       "3              2                 5               2                      1   \n",
       "\n",
       "   FINANZ_HAUSBAUER  FINANZTYP    ...     PLZ8_ANTG1  PLZ8_ANTG2  PLZ8_ANTG3  \\\n",
       "1                 5          1    ...            2.0         3.0         2.0   \n",
       "2                 5          1    ...            3.0         3.0         1.0   \n",
       "3                 2          6    ...            2.0         2.0         2.0   \n",
       "\n",
       "   PLZ8_ANTG4  PLZ8_BAUMAX  PLZ8_HHZ  PLZ8_GBZ  ARBEIT  ORTSGR_KLS9  RELAT_AB  \n",
       "1         1.0          1.0       5.0       4.0     3.0          5.0       4.0  \n",
       "2         0.0          1.0       4.0       4.0     3.0          5.0       2.0  \n",
       "3         0.0          1.0       3.0       4.0     2.0          3.0       3.0  \n",
       "\n",
       "[3 rows x 81 columns]"
      ]
     },
     "execution_count": 19,
     "metadata": {},
     "output_type": "execute_result"
    }
   ],
   "source": [
    "new_clean_data  = not_null_values.copy()\n",
    "new_clean_data.head(3)"
   ]
  },
  {
   "cell_type": "markdown",
   "metadata": {},
   "source": [
    "#### Discussion 1.1.3: Assess Missing Data in Each Row\n",
    "After dividing the data into two subsets based on the number of missing values in each row, there were 94261 rows that has more than 25% missing values. Based on the original number of rows in the data frame, the loss was not high too much in some values, and high in others. \n",
    "In forward, during the analysis the not_null_values data frame will be used, while the rows with high Nan values were discarded."
   ]
  },
  {
   "cell_type": "markdown",
   "metadata": {},
   "source": [
    "### Step 1.2: Select and Re-Encode Features\n",
    "\n",
    "Checking for missing data isn't the only way in which you can prepare a dataset for analysis. Since the unsupervised learning techniques to be used will only work on data that is encoded numerically, you need to make a few encoding changes or additional assumptions to be able to make progress. In addition, while almost all of the values in the dataset are encoded using numbers, not all of them represent numeric values. Check the third column of the feature summary (`feat_info`) for a summary of types of measurement.\n",
    "- For numeric and interval data, these features can be kept without changes.\n",
    "- Most of the variables in the dataset are ordinal in nature. While ordinal values may technically be non-linear in spacing, make the simplifying assumption that the ordinal variables can be treated as being interval in nature (that is, kept without any changes).\n",
    "- Special handling may be necessary for the remaining two variable types: categorical, and 'mixed'.\n",
    "\n",
    "In the first two parts of this sub-step, you will perform an investigation of the categorical and mixed-type features and make a decision on each of them, whether you will keep, drop, or re-encode each. Then, in the last part, you will create a new data frame with only the selected and engineered columns.\n",
    "\n",
    "Data wrangling is often the trickiest part of the data analysis process, and there's a lot of it to be done here. But stick with it: once you're done with this step, you'll be ready to get to the machine learning parts of the project!"
   ]
  },
  {
   "cell_type": "code",
   "execution_count": 20,
   "metadata": {},
   "outputs": [
    {
     "name": "stdout",
     "output_type": "stream",
     "text": [
      "How many features are there of each data type?\n",
      "ordinal        49\n",
      "categorical    18\n",
      "numeric         7\n",
      "mixed           6\n",
      "interval        1\n",
      "Name: type, dtype: int64\n"
     ]
    },
    {
     "data": {
      "image/png": "[encoded data removed]",
      "text/plain": [
       "<matplotlib.figure.Figure at 0x7ff150bf1780>"
      ]
     },
     "metadata": {
      "needs_background": "light"
     },
     "output_type": "display_data"
    }
   ],
   "source": [
    "# How many features are there of each data type?\n",
    "print(\"How many features are there of each data type?\")\n",
    "types = feat_info\n",
    "indexn = types[types['attribute'].isin(dell_column)].index\n",
    "types.drop(indexn , inplace=True)\n",
    "print(types['type'].value_counts())\n",
    "plt.title(\"features\")\n",
    "ax = sns.countplot(x=\"type\", data=types)\n",
    "plt.show()"
   ]
  },
  {
   "cell_type": "markdown",
   "metadata": {},
   "source": [
    "#### Step 1.2.1: Re-Encode Categorical Features\n",
    "\n",
    "For categorical data, you would ordinarily need to encode the levels as dummy variables. Depending on the number of categories, perform one of the following:\n",
    "- For binary (two-level) categoricals that take numeric values, you can keep them without needing to do anything.\n",
    "- There is one binary variable that takes on non-numeric values. For this one, you need to re-encode the values as numbers or create a dummy variable.\n",
    "- For multi-level categoricals (three or more values), you can choose to encode the values using multiple dummy variables (e.g. via [OneHotEncoder](http://scikit-learn.org/stable/modules/generated/sklearn.preprocessing.OneHotEncoder.html)), or (to keep things straightforward) just drop them from the analysis. As always, document your choices in the Discussion section."
   ]
  },
  {
   "cell_type": "code",
   "execution_count": 21,
   "metadata": {},
   "outputs": [
    {
     "name": "stderr",
     "output_type": "stream",
     "text": [
      "/opt/conda/lib/python3.6/site-packages/pandas/core/frame.py:3697: SettingWithCopyWarning: \n",
      "A value is trying to be set on a copy of a slice from a DataFrame\n",
      "\n",
      "See the caveats in the documentation: http://pandas.pydata.org/pandas-docs/stable/indexing.html#indexing-view-versus-copy\n",
      "  errors=errors)\n"
     ]
    }
   ],
   "source": [
    "# Columns with catigorical dtype\n",
    "column_type = feat_info[feat_info['type'] == \"categorical\"]\n",
    "# Remove the deleted column ['AGER_TYP', 'TITEL_KZ', 'KK_KUNDENTYP', 'KBA05_BAUMAX']\n",
    "indexn = column_type[column_type['attribute'].isin(dell_column)].index\n",
    "column_type.drop(indexn , inplace=True)"
   ]
  },
  {
   "cell_type": "code",
   "execution_count": 22,
   "metadata": {},
   "outputs": [
    {
     "data": {
      "text/html": [
       "<div>\n",
       "<style scoped>\n",
       "    .dataframe tbody tr th:only-of-type {\n",
       "        vertical-align: middle;\n",
       "    }\n",
       "\n",
       "    .dataframe tbody tr th {\n",
       "        vertical-align: top;\n",
       "    }\n",
       "\n",
       "    .dataframe thead th {\n",
       "        text-align: right;\n",
       "    }\n",
       "</style>\n",
       "<table border=\"1\" class=\"dataframe\">\n",
       "  <thead>\n",
       "    <tr style=\"text-align: right;\">\n",
       "      <th></th>\n",
       "      <th>ANREDE_KZ</th>\n",
       "      <th>CJT_GESAMTTYP</th>\n",
       "      <th>FINANZTYP</th>\n",
       "      <th>GFK_URLAUBERTYP</th>\n",
       "      <th>GREEN_AVANTGARDE</th>\n",
       "      <th>LP_FAMILIE_FEIN</th>\n",
       "      <th>LP_FAMILIE_GROB</th>\n",
       "      <th>LP_STATUS_FEIN</th>\n",
       "      <th>LP_STATUS_GROB</th>\n",
       "      <th>NATIONALITAET_KZ</th>\n",
       "      <th>SHOPPER_TYP</th>\n",
       "      <th>SOHO_KZ</th>\n",
       "      <th>VERS_TYP</th>\n",
       "      <th>ZABEOTYP</th>\n",
       "      <th>GEBAEUDETYP</th>\n",
       "      <th>OST_WEST_KZ</th>\n",
       "      <th>CAMEO_DEUG_2015</th>\n",
       "      <th>CAMEO_DEU_2015</th>\n",
       "    </tr>\n",
       "  </thead>\n",
       "  <tbody>\n",
       "    <tr>\n",
       "      <th>1</th>\n",
       "      <td>2</td>\n",
       "      <td>5.0</td>\n",
       "      <td>1</td>\n",
       "      <td>10.0</td>\n",
       "      <td>0</td>\n",
       "      <td>5.0</td>\n",
       "      <td>3.0</td>\n",
       "      <td>2.0</td>\n",
       "      <td>1.0</td>\n",
       "      <td>1.0</td>\n",
       "      <td>3.0</td>\n",
       "      <td>1.0</td>\n",
       "      <td>2.0</td>\n",
       "      <td>5</td>\n",
       "      <td>8.0</td>\n",
       "      <td>W</td>\n",
       "      <td>8</td>\n",
       "      <td>8A</td>\n",
       "    </tr>\n",
       "    <tr>\n",
       "      <th>2</th>\n",
       "      <td>2</td>\n",
       "      <td>3.0</td>\n",
       "      <td>1</td>\n",
       "      <td>10.0</td>\n",
       "      <td>1</td>\n",
       "      <td>1.0</td>\n",
       "      <td>1.0</td>\n",
       "      <td>3.0</td>\n",
       "      <td>2.0</td>\n",
       "      <td>1.0</td>\n",
       "      <td>2.0</td>\n",
       "      <td>0.0</td>\n",
       "      <td>1.0</td>\n",
       "      <td>5</td>\n",
       "      <td>1.0</td>\n",
       "      <td>W</td>\n",
       "      <td>4</td>\n",
       "      <td>4C</td>\n",
       "    </tr>\n",
       "    <tr>\n",
       "      <th>3</th>\n",
       "      <td>2</td>\n",
       "      <td>2.0</td>\n",
       "      <td>6</td>\n",
       "      <td>1.0</td>\n",
       "      <td>0</td>\n",
       "      <td>NaN</td>\n",
       "      <td>NaN</td>\n",
       "      <td>9.0</td>\n",
       "      <td>4.0</td>\n",
       "      <td>1.0</td>\n",
       "      <td>1.0</td>\n",
       "      <td>0.0</td>\n",
       "      <td>1.0</td>\n",
       "      <td>3</td>\n",
       "      <td>1.0</td>\n",
       "      <td>W</td>\n",
       "      <td>2</td>\n",
       "      <td>2A</td>\n",
       "    </tr>\n",
       "  </tbody>\n",
       "</table>\n",
       "</div>"
      ],
      "text/plain": [
       "   ANREDE_KZ  CJT_GESAMTTYP  FINANZTYP  GFK_URLAUBERTYP  GREEN_AVANTGARDE  \\\n",
       "1          2            5.0          1             10.0                 0   \n",
       "2          2            3.0          1             10.0                 1   \n",
       "3          2            2.0          6              1.0                 0   \n",
       "\n",
       "   LP_FAMILIE_FEIN  LP_FAMILIE_GROB  LP_STATUS_FEIN  LP_STATUS_GROB  \\\n",
       "1              5.0              3.0             2.0             1.0   \n",
       "2              1.0              1.0             3.0             2.0   \n",
       "3              NaN              NaN             9.0             4.0   \n",
       "\n",
       "   NATIONALITAET_KZ  SHOPPER_TYP  SOHO_KZ  VERS_TYP  ZABEOTYP  GEBAEUDETYP  \\\n",
       "1               1.0          3.0      1.0       2.0         5          8.0   \n",
       "2               1.0          2.0      0.0       1.0         5          1.0   \n",
       "3               1.0          1.0      0.0       1.0         3          1.0   \n",
       "\n",
       "  OST_WEST_KZ CAMEO_DEUG_2015 CAMEO_DEU_2015  \n",
       "1           W               8             8A  \n",
       "2           W               4             4C  \n",
       "3           W               2             2A  "
      ]
     },
     "execution_count": 22,
     "metadata": {},
     "output_type": "execute_result"
    }
   ],
   "source": [
    "# Store all catigorical columns in a new df : cat_col\n",
    "col_names = column_type['attribute']\n",
    "result = col_names.reset_index(drop = True)\n",
    "cat_col = new_clean_data.filter(result, axis=1)\n",
    "cat_col.head(3)"
   ]
  },
  {
   "cell_type": "code",
   "execution_count": 23,
   "metadata": {},
   "outputs": [
    {
     "data": {
      "text/plain": [
       "(796960, 81)"
      ]
     },
     "execution_count": 23,
     "metadata": {},
     "output_type": "execute_result"
    }
   ],
   "source": [
    "new_clean_data.shape"
   ]
  },
  {
   "cell_type": "code",
   "execution_count": 24,
   "metadata": {},
   "outputs": [
    {
     "data": {
      "text/html": [
       "<div>\n",
       "<style scoped>\n",
       "    .dataframe tbody tr th:only-of-type {\n",
       "        vertical-align: middle;\n",
       "    }\n",
       "\n",
       "    .dataframe tbody tr th {\n",
       "        vertical-align: top;\n",
       "    }\n",
       "\n",
       "    .dataframe thead th {\n",
       "        text-align: right;\n",
       "    }\n",
       "</style>\n",
       "<table border=\"1\" class=\"dataframe\">\n",
       "  <thead>\n",
       "    <tr style=\"text-align: right;\">\n",
       "      <th></th>\n",
       "      <th>col_name</th>\n",
       "      <th>num_of_levels</th>\n",
       "      <th>multi_or_bin</th>\n",
       "      <th>col_type</th>\n",
       "    </tr>\n",
       "  </thead>\n",
       "  <tbody>\n",
       "    <tr>\n",
       "      <th>0</th>\n",
       "      <td>ANREDE_KZ</td>\n",
       "      <td>2</td>\n",
       "      <td>binary</td>\n",
       "      <td>no encode</td>\n",
       "    </tr>\n",
       "    <tr>\n",
       "      <th>1</th>\n",
       "      <td>CJT_GESAMTTYP</td>\n",
       "      <td>6</td>\n",
       "      <td>multi</td>\n",
       "      <td>no encode</td>\n",
       "    </tr>\n",
       "    <tr>\n",
       "      <th>2</th>\n",
       "      <td>FINANZTYP</td>\n",
       "      <td>6</td>\n",
       "      <td>multi</td>\n",
       "      <td>no encode</td>\n",
       "    </tr>\n",
       "    <tr>\n",
       "      <th>3</th>\n",
       "      <td>GFK_URLAUBERTYP</td>\n",
       "      <td>12</td>\n",
       "      <td>multi</td>\n",
       "      <td>no encode</td>\n",
       "    </tr>\n",
       "    <tr>\n",
       "      <th>4</th>\n",
       "      <td>GREEN_AVANTGARDE</td>\n",
       "      <td>2</td>\n",
       "      <td>binary</td>\n",
       "      <td>no encode</td>\n",
       "    </tr>\n",
       "    <tr>\n",
       "      <th>5</th>\n",
       "      <td>LP_FAMILIE_FEIN</td>\n",
       "      <td>11</td>\n",
       "      <td>multi</td>\n",
       "      <td>no encode</td>\n",
       "    </tr>\n",
       "    <tr>\n",
       "      <th>6</th>\n",
       "      <td>LP_FAMILIE_GROB</td>\n",
       "      <td>5</td>\n",
       "      <td>multi</td>\n",
       "      <td>no encode</td>\n",
       "    </tr>\n",
       "    <tr>\n",
       "      <th>7</th>\n",
       "      <td>LP_STATUS_FEIN</td>\n",
       "      <td>10</td>\n",
       "      <td>multi</td>\n",
       "      <td>no encode</td>\n",
       "    </tr>\n",
       "    <tr>\n",
       "      <th>8</th>\n",
       "      <td>LP_STATUS_GROB</td>\n",
       "      <td>5</td>\n",
       "      <td>multi</td>\n",
       "      <td>no encode</td>\n",
       "    </tr>\n",
       "    <tr>\n",
       "      <th>9</th>\n",
       "      <td>NATIONALITAET_KZ</td>\n",
       "      <td>3</td>\n",
       "      <td>multi</td>\n",
       "      <td>no encode</td>\n",
       "    </tr>\n",
       "    <tr>\n",
       "      <th>10</th>\n",
       "      <td>SHOPPER_TYP</td>\n",
       "      <td>4</td>\n",
       "      <td>multi</td>\n",
       "      <td>no encode</td>\n",
       "    </tr>\n",
       "    <tr>\n",
       "      <th>11</th>\n",
       "      <td>SOHO_KZ</td>\n",
       "      <td>2</td>\n",
       "      <td>binary</td>\n",
       "      <td>no encode</td>\n",
       "    </tr>\n",
       "    <tr>\n",
       "      <th>12</th>\n",
       "      <td>VERS_TYP</td>\n",
       "      <td>2</td>\n",
       "      <td>binary</td>\n",
       "      <td>no encode</td>\n",
       "    </tr>\n",
       "    <tr>\n",
       "      <th>13</th>\n",
       "      <td>ZABEOTYP</td>\n",
       "      <td>6</td>\n",
       "      <td>multi</td>\n",
       "      <td>no encode</td>\n",
       "    </tr>\n",
       "    <tr>\n",
       "      <th>14</th>\n",
       "      <td>GEBAEUDETYP</td>\n",
       "      <td>7</td>\n",
       "      <td>multi</td>\n",
       "      <td>no encode</td>\n",
       "    </tr>\n",
       "    <tr>\n",
       "      <th>15</th>\n",
       "      <td>OST_WEST_KZ</td>\n",
       "      <td>2</td>\n",
       "      <td>binary</td>\n",
       "      <td>encode</td>\n",
       "    </tr>\n",
       "    <tr>\n",
       "      <th>16</th>\n",
       "      <td>CAMEO_DEUG_2015</td>\n",
       "      <td>9</td>\n",
       "      <td>multi</td>\n",
       "      <td>encode</td>\n",
       "    </tr>\n",
       "    <tr>\n",
       "      <th>17</th>\n",
       "      <td>CAMEO_DEU_2015</td>\n",
       "      <td>44</td>\n",
       "      <td>multi</td>\n",
       "      <td>encode</td>\n",
       "    </tr>\n",
       "  </tbody>\n",
       "</table>\n",
       "</div>"
      ],
      "text/plain": [
       "            col_name  num_of_levels multi_or_bin   col_type\n",
       "0          ANREDE_KZ              2       binary  no encode\n",
       "1      CJT_GESAMTTYP              6        multi  no encode\n",
       "2          FINANZTYP              6        multi  no encode\n",
       "3    GFK_URLAUBERTYP             12        multi  no encode\n",
       "4   GREEN_AVANTGARDE              2       binary  no encode\n",
       "5    LP_FAMILIE_FEIN             11        multi  no encode\n",
       "6    LP_FAMILIE_GROB              5        multi  no encode\n",
       "7     LP_STATUS_FEIN             10        multi  no encode\n",
       "8     LP_STATUS_GROB              5        multi  no encode\n",
       "9   NATIONALITAET_KZ              3        multi  no encode\n",
       "10       SHOPPER_TYP              4        multi  no encode\n",
       "11           SOHO_KZ              2       binary  no encode\n",
       "12          VERS_TYP              2       binary  no encode\n",
       "13          ZABEOTYP              6        multi  no encode\n",
       "14       GEBAEUDETYP              7        multi  no encode\n",
       "15       OST_WEST_KZ              2       binary     encode\n",
       "16   CAMEO_DEUG_2015              9        multi     encode\n",
       "17    CAMEO_DEU_2015             44        multi     encode"
      ]
     },
     "execution_count": 24,
     "metadata": {},
     "output_type": "execute_result"
    }
   ],
   "source": [
    "# Assess categorical variables: which are binary, which are multi-level, and\n",
    "# which one needs to be re-encoded?\n",
    "num_of_levels= cat_col.nunique().tolist()\n",
    "mul_or_bin = pd.DataFrame({'col_name':result,'num_of_levels':num_of_levels})\n",
    "\n",
    "# 1- Which are Binary ? Which are multi ?\n",
    "mul_or_bin.loc[mul_or_bin['num_of_levels'] >= 3, 'multi_or_bin'] = 'multi' \n",
    "mul_or_bin.loc[mul_or_bin['num_of_levels'] == 2, 'multi_or_bin'] = 'binary'\n",
    "\n",
    "# 2-  which one needs to be re-encoded?\n",
    "mul_or_bin['col_type'] = np.where(cat_col.dtypes == 'object','encode','no encode')\n",
    "mul_or_bin"
   ]
  },
  {
   "cell_type": "code",
   "execution_count": 25,
   "metadata": {},
   "outputs": [
    {
     "data": {
      "text/plain": [
       "(796960, 81)"
      ]
     },
     "execution_count": 25,
     "metadata": {},
     "output_type": "execute_result"
    }
   ],
   "source": [
    "# Re-encode categorical variable(s) to be kept in the analysis.\n",
    "# 1- encode the col - OST_WEST_KZ  - Binary with non-numeric values\n",
    "drop_binary_enc = pd.get_dummies(cat_col['OST_WEST_KZ'],dummy_na=False, drop_first= True)\n",
    "# 2- add the encoded column to the df\n",
    "new_clean_data['Location_E_W'] = drop_binary_enc\n",
    "# 3- delete it from the original df \n",
    "new_clean_data.drop('OST_WEST_KZ', axis=1, inplace=True)\n",
    "new_clean_data.shape"
   ]
  },
  {
   "cell_type": "code",
   "execution_count": 26,
   "metadata": {},
   "outputs": [
    {
     "data": {
      "text/plain": [
       "(796960, 79)"
      ]
     },
     "execution_count": 26,
     "metadata": {},
     "output_type": "execute_result"
    }
   ],
   "source": [
    "# Drop the multi catigorical columns. \n",
    "#CAMEO_DEUG_2015, CAMEO_DEU_2015- multi level with non-numeric values.\n",
    "new_clean_data.drop('CAMEO_DEUG_2015', axis=1, inplace=True)\n",
    "new_clean_data.drop('CAMEO_DEU_2015', axis=1, inplace=True)\n",
    "new_clean_data.shape"
   ]
  },
  {
   "cell_type": "markdown",
   "metadata": {},
   "source": [
    "#### Discussion 1.2.1: Re-Encode Categorical Features\n",
    "\n",
    "Regarding the catigorical columns, there were about 18 columns with this type. These 18's were classified based on if it is binary or multi, also if it needs to be re-encoded or not.\n",
    "5 of them are binary, the rest are multi. The columns that needed to be encoded are 3, one of them is binary, the other two are multi. \n",
    "The binary column were sujeseted to be re-encoded with get_dummy -its new name is ['Location_E_W']-  , while dropping the 2 multi; because it will have multi columns after encoding; which will may make difficulties in analysing the data."
   ]
  },
  {
   "cell_type": "markdown",
   "metadata": {},
   "source": [
    "#### Step 1.2.2: Engineer Mixed-Type Features\n",
    "\n",
    "There are a handful of features that are marked as \"mixed\" in the feature summary that require special treatment in order to be included in the analysis. There are two in particular that deserve attention; the handling of the rest are up to your own choices:\n",
    "- \"PRAEGENDE_JUGENDJAHRE\" combines information on three dimensions: generation by decade, movement (mainstream vs. avantgarde), and nation (east vs. west). While there aren't enough levels to disentangle east from west, you should create two new variables to capture the other two dimensions: an interval-type variable for decade, and a binary variable for movement.\n",
    "- \"CAMEO_INTL_2015\" combines information on two axes: wealth and life stage. Break up the two-digit codes by their 'tens'-place and 'ones'-place digits into two new ordinal variables (which, for the purposes of this project, is equivalent to just treating them as their raw numeric values).\n",
    "- If you decide to keep or engineer new features around the other mixed-type features, make sure you note your steps in the Discussion section.\n",
    "\n",
    "Be sure to check `Data_Dictionary.md` for the details needed to finish these tasks."
   ]
  },
  {
   "cell_type": "code",
   "execution_count": 27,
   "metadata": {},
   "outputs": [
    {
     "name": "stderr",
     "output_type": "stream",
     "text": [
      "/opt/conda/lib/python3.6/site-packages/pandas/core/frame.py:3697: SettingWithCopyWarning: \n",
      "A value is trying to be set on a copy of a slice from a DataFrame\n",
      "\n",
      "See the caveats in the documentation: http://pandas.pydata.org/pandas-docs/stable/indexing.html#indexing-view-versus-copy\n",
      "  errors=errors)\n"
     ]
    },
    {
     "data": {
      "text/html": [
       "<div>\n",
       "<style scoped>\n",
       "    .dataframe tbody tr th:only-of-type {\n",
       "        vertical-align: middle;\n",
       "    }\n",
       "\n",
       "    .dataframe tbody tr th {\n",
       "        vertical-align: top;\n",
       "    }\n",
       "\n",
       "    .dataframe thead th {\n",
       "        text-align: right;\n",
       "    }\n",
       "</style>\n",
       "<table border=\"1\" class=\"dataframe\">\n",
       "  <thead>\n",
       "    <tr style=\"text-align: right;\">\n",
       "      <th></th>\n",
       "      <th>attribute</th>\n",
       "      <th>information_level</th>\n",
       "      <th>type</th>\n",
       "      <th>missing_or_unknown</th>\n",
       "    </tr>\n",
       "  </thead>\n",
       "  <tbody>\n",
       "    <tr>\n",
       "      <th>15</th>\n",
       "      <td>LP_LEBENSPHASE_FEIN</td>\n",
       "      <td>person</td>\n",
       "      <td>mixed</td>\n",
       "      <td>[0]</td>\n",
       "    </tr>\n",
       "    <tr>\n",
       "      <th>16</th>\n",
       "      <td>LP_LEBENSPHASE_GROB</td>\n",
       "      <td>person</td>\n",
       "      <td>mixed</td>\n",
       "      <td>[0]</td>\n",
       "    </tr>\n",
       "    <tr>\n",
       "      <th>22</th>\n",
       "      <td>PRAEGENDE_JUGENDJAHRE</td>\n",
       "      <td>person</td>\n",
       "      <td>mixed</td>\n",
       "      <td>[-1,0]</td>\n",
       "    </tr>\n",
       "    <tr>\n",
       "      <th>56</th>\n",
       "      <td>WOHNLAGE</td>\n",
       "      <td>building</td>\n",
       "      <td>mixed</td>\n",
       "      <td>[-1]</td>\n",
       "    </tr>\n",
       "    <tr>\n",
       "      <th>59</th>\n",
       "      <td>CAMEO_INTL_2015</td>\n",
       "      <td>microcell_rr4</td>\n",
       "      <td>mixed</td>\n",
       "      <td>[-1,XX]</td>\n",
       "    </tr>\n",
       "    <tr>\n",
       "      <th>79</th>\n",
       "      <td>PLZ8_BAUMAX</td>\n",
       "      <td>macrocell_plz8</td>\n",
       "      <td>mixed</td>\n",
       "      <td>[-1,0]</td>\n",
       "    </tr>\n",
       "  </tbody>\n",
       "</table>\n",
       "</div>"
      ],
      "text/plain": [
       "                attribute information_level   type missing_or_unknown\n",
       "15    LP_LEBENSPHASE_FEIN            person  mixed                [0]\n",
       "16    LP_LEBENSPHASE_GROB            person  mixed                [0]\n",
       "22  PRAEGENDE_JUGENDJAHRE            person  mixed             [-1,0]\n",
       "56               WOHNLAGE          building  mixed               [-1]\n",
       "59        CAMEO_INTL_2015     microcell_rr4  mixed            [-1,XX]\n",
       "79            PLZ8_BAUMAX    macrocell_plz8  mixed             [-1,0]"
      ]
     },
     "execution_count": 27,
     "metadata": {},
     "output_type": "execute_result"
    }
   ],
   "source": [
    "# Columns with mixed dtype\n",
    "column_type_m = feat_info[feat_info['type'] == \"mixed\"]\n",
    "# Remove the deleted column\n",
    "indexn1 = column_type_m[column_type_m['attribute'].isin(dell_column)].index\n",
    "column_type_m.drop(indexn1 , inplace=True)\n",
    "column_type_m"
   ]
  },
  {
   "cell_type": "code",
   "execution_count": 28,
   "metadata": {},
   "outputs": [
    {
     "data": {
      "text/html": [
       "<div>\n",
       "<style scoped>\n",
       "    .dataframe tbody tr th:only-of-type {\n",
       "        vertical-align: middle;\n",
       "    }\n",
       "\n",
       "    .dataframe tbody tr th {\n",
       "        vertical-align: top;\n",
       "    }\n",
       "\n",
       "    .dataframe thead th {\n",
       "        text-align: right;\n",
       "    }\n",
       "</style>\n",
       "<table border=\"1\" class=\"dataframe\">\n",
       "  <thead>\n",
       "    <tr style=\"text-align: right;\">\n",
       "      <th></th>\n",
       "      <th>LP_LEBENSPHASE_FEIN</th>\n",
       "      <th>LP_LEBENSPHASE_GROB</th>\n",
       "      <th>PRAEGENDE_JUGENDJAHRE</th>\n",
       "      <th>WOHNLAGE</th>\n",
       "      <th>CAMEO_INTL_2015</th>\n",
       "      <th>PLZ8_BAUMAX</th>\n",
       "    </tr>\n",
       "  </thead>\n",
       "  <tbody>\n",
       "    <tr>\n",
       "      <th>1</th>\n",
       "      <td>21.0</td>\n",
       "      <td>6.0</td>\n",
       "      <td>14.0</td>\n",
       "      <td>4.0</td>\n",
       "      <td>51</td>\n",
       "      <td>1.0</td>\n",
       "    </tr>\n",
       "    <tr>\n",
       "      <th>2</th>\n",
       "      <td>3.0</td>\n",
       "      <td>1.0</td>\n",
       "      <td>15.0</td>\n",
       "      <td>2.0</td>\n",
       "      <td>24</td>\n",
       "      <td>1.0</td>\n",
       "    </tr>\n",
       "    <tr>\n",
       "      <th>3</th>\n",
       "      <td>NaN</td>\n",
       "      <td>NaN</td>\n",
       "      <td>8.0</td>\n",
       "      <td>7.0</td>\n",
       "      <td>12</td>\n",
       "      <td>1.0</td>\n",
       "    </tr>\n",
       "  </tbody>\n",
       "</table>\n",
       "</div>"
      ],
      "text/plain": [
       "   LP_LEBENSPHASE_FEIN  LP_LEBENSPHASE_GROB  PRAEGENDE_JUGENDJAHRE  WOHNLAGE  \\\n",
       "1                 21.0                  6.0                   14.0       4.0   \n",
       "2                  3.0                  1.0                   15.0       2.0   \n",
       "3                  NaN                  NaN                    8.0       7.0   \n",
       "\n",
       "  CAMEO_INTL_2015  PLZ8_BAUMAX  \n",
       "1              51          1.0  \n",
       "2              24          1.0  \n",
       "3              12          1.0  "
      ]
     },
     "execution_count": 28,
     "metadata": {},
     "output_type": "execute_result"
    }
   ],
   "source": [
    "# Store all Mixed columns in a new df : mixed_col\n",
    "col_names_m = column_type_m['attribute']\n",
    "result_m = col_names_m.reset_index(drop = True)\n",
    "mixed_col = new_clean_data.filter(result_m, axis=1)\n",
    "mixed_col.head(3)"
   ]
  },
  {
   "cell_type": "code",
   "execution_count": 29,
   "metadata": {},
   "outputs": [
    {
     "name": "stdout",
     "output_type": "stream",
     "text": [
      "                attribute information_level   type missing_or_unknown\n",
      "22  PRAEGENDE_JUGENDJAHRE            person  mixed             [-1,0]\n"
     ]
    },
    {
     "data": {
      "text/plain": [
       "(796960, 80)"
      ]
     },
     "execution_count": 29,
     "metadata": {},
     "output_type": "execute_result"
    }
   ],
   "source": [
    "# Investigate \"PRAEGENDE_JUGENDJAHRE\" and engineer two new variables.\n",
    "pr = feat_info[feat_info['attribute'] == 'PRAEGENDE_JUGENDJAHRE']\n",
    "print(pr)\n",
    "index_to_decade = { 1 :  1, 2 : 1, 3 :  2, 4 : 2, 5 :  3, 6 : 3,7 :  60, 8 : 70,\n",
    "                    9 :  70, 10: 80, 11:  80, 12: 80, 13:  80, 14: 90, 15:  90 }\n",
    "\n",
    "index_to_movement = { 1 : 1, 2 : 0, 3 : 1, 4 : 0, 5 :  1, 6 : 0, 7 : 0, 8 : 1,\n",
    "                      9 : 0, 10: 1, 11: 0, 12: 1, 13:  0, 14: 1, 15: 0 }\n",
    "\n",
    "new_clean_data['decade'] =  new_clean_data['PRAEGENDE_JUGENDJAHRE'].map(index_to_decade)\n",
    "new_clean_data['movement'] =  new_clean_data['PRAEGENDE_JUGENDJAHRE'].map(index_to_movement)\n",
    "new_clean_data.drop('PRAEGENDE_JUGENDJAHRE', axis=1, inplace=True)\n",
    "new_clean_data.shape"
   ]
  },
  {
   "cell_type": "code",
   "execution_count": 30,
   "metadata": {},
   "outputs": [
    {
     "data": {
      "text/plain": [
       "(796960, 81)"
      ]
     },
     "execution_count": 30,
     "metadata": {},
     "output_type": "execute_result"
    }
   ],
   "source": [
    "# Investigate \"CAMEO_INTL_2015\" and engineer two new variables.\n",
    "feat_info[feat_info['attribute'] == 'CAMEO_INTL_2015']\n",
    "\n",
    "# not_null_values : df\n",
    "new_clean_data['C'] = new_clean_data['CAMEO_INTL_2015'].astype(str)\n",
    "\n",
    "Wealth = new_clean_data['C'].str[0]\n",
    "new_clean_data['Wealth'] = pd.to_numeric(Wealth, errors='coerce')\n",
    "\n",
    "Life_Stage = new_clean_data['C'].str[1]\n",
    "new_clean_data['Life_Stage'] = pd.to_numeric(Life_Stage, errors='coerce')\n",
    "\n",
    "new_clean_data.drop('C', axis=1, inplace=True)\n",
    "new_clean_data.drop('CAMEO_INTL_2015', axis=1, inplace=True)\n",
    "new_clean_data.shape"
   ]
  },
  {
   "cell_type": "markdown",
   "metadata": {},
   "source": [
    "#### Discussion 1.2.2: Engineer Mixed-Type Features\n",
    "\n",
    "Result of Mixed-Type Features engeneering..\n",
    "**The 2 mixed columns mentioned previously in this part- \"PRAEGENDE_JUGENDJAHRE\" &  \"CAMEO_INTL_2015\"- were engineered as following:**   \n",
    "\n",
    "- **First:**\"PRAEGENDE_JUGENDJAHRE\", was devided into 2 new columns: years by decade and movemnt.  These columns was constructed by creating 2 dictionaries in order to map the original values to the new ones.\n",
    "- **Second:**\"CAMEO_INTL_2015\", contains a number of 2 digits, the 'tens'denots 'Wealth', 'ones' denotes 'Life_Stage'. The original column was converted into string in order to devid it into 2 new columns after this step it was converted again into numirical values.\n",
    "- **Third:** After that the original columns were deleted and instead of it the new 2 columns in each step were added to the data frame."
   ]
  },
  {
   "cell_type": "markdown",
   "metadata": {},
   "source": [
    "#### Step 1.2.3: Complete Feature Selection\n",
    "\n",
    "In order to finish this step up, you need to make sure that your data frame now only has the columns that you want to keep. To summarize, the dataframe should consist of the following:\n",
    "- All numeric, interval, and ordinal type columns from the original dataset.\n",
    "- Binary categorical features (all numerically-encoded).\n",
    "- Engineered features from other multi-level categorical features and mixed features.\n",
    "\n",
    "Make sure that for any new columns that you have engineered, that you've excluded the original columns from the final dataset. Otherwise, their values will interfere with the analysis later on the project. For example, you should not keep \"PRAEGENDE_JUGENDJAHRE\", since its values won't be useful for the algorithm: only the values derived from it in the engineered features you created should be retained. As a reminder, your data should only be from **the subset with few or no missing values**."
   ]
  },
  {
   "cell_type": "code",
   "execution_count": 31,
   "metadata": {},
   "outputs": [],
   "source": [
    "# If there are other re-engineering tasks you need to perform, make sure you\n",
    "# take care of them here. (Dealing with missing data will come in step 2.1.)\n",
    "new_clean_data.drop('LP_LEBENSPHASE_FEIN', axis=1, inplace=True)\n",
    "new_clean_data.drop('LP_LEBENSPHASE_GROB', axis=1, inplace=True)\n",
    "new_clean_data.drop('WOHNLAGE', axis=1, inplace=True)\n",
    "new_clean_data.drop('PLZ8_BAUMAX', axis=1, inplace=True)"
   ]
  },
  {
   "cell_type": "code",
   "execution_count": 32,
   "metadata": {},
   "outputs": [
    {
     "data": {
      "text/plain": [
       "(796960, 77)"
      ]
     },
     "execution_count": 32,
     "metadata": {},
     "output_type": "execute_result"
    }
   ],
   "source": [
    "# Do whatever you need to in order to ensure that the dataframe only contains\n",
    "# the columns that should be passed to the algorithm functions.\n",
    "new_clean_data.shape"
   ]
  },
  {
   "cell_type": "markdown",
   "metadata": {},
   "source": [
    "### Step 1.3: Create a Cleaning Function\n",
    "\n",
    "Even though you've finished cleaning up the general population demographics data, it's important to look ahead to the future and realize that you'll need to perform the same cleaning steps on the customer demographics data. In this substep, complete the function below to execute the main feature selection, encoding, and re-engineering steps you performed above. Then, when it comes to looking at the customer data in Step 3, you can just run this function on that DataFrame to get the trimmed dataset in a single step."
   ]
  },
  {
   "cell_type": "code",
   "execution_count": 33,
   "metadata": {},
   "outputs": [],
   "source": [
    "def clean_data(df):\n",
    "    \n",
    "    \"\"\"\n",
    "    Perform feature trimming, re-encoding, and engineering for demographics\n",
    "    data\n",
    "    \n",
    "    INPUT: Demographics DataFrame\n",
    "    OUTPUT: Trimmed and cleaned demographics DataFrame\n",
    "    \"\"\"\n",
    "    feat_info1 = pd.read_csv(\"AZDIAS_Feature_Summary.csv\", sep=';') \n",
    "    # Put in code here to execute all main cleaning steps:\n",
    "    # convert missing value codes into NaNs, ...\n",
    "    for i in range(len(feat_info)):\n",
    "        g = feat_info1['missing_or_unknown'][i].strip('[')\n",
    "        g = g.strip(']')\n",
    "        if g != \"\":\n",
    "            g = g.split(',')\n",
    "            attr = feat_info1['attribute'][i]\n",
    "            for j in range (len(g)):\n",
    "                contains_digit = any(map(str.isdigit, g[j]))\n",
    "                if contains_digit == True:\n",
    "                    df[attr] = df[attr].replace(int(g[j]),np.nan)#inplace= True\n",
    "                else:\n",
    "                    df[attr] = df[attr].replace(str(g[j]),np.nan)#inplace= True\n",
    "                    \n",
    "                    \n",
    "    # remove selected columns and rows, ...\n",
    "    # A- remove columns..\n",
    "    #'AGER_TYP', 'TITEL_KZ', 'KK_KUNDENTYP', 'KBA05_BAUMAX'\n",
    "    df.drop('AGER_TYP', axis = 1, inplace = True)\n",
    "    df.drop('TITEL_KZ', axis = 1, inplace = True)\n",
    "    df.drop('KK_KUNDENTYP', axis = 1, inplace = True)\n",
    "    df.drop('KBA05_BAUMAX', axis = 1, inplace = True)\n",
    "    \n",
    "    # B- remove rows..\n",
    "    not_null_values = df[df.isnull().mean(axis=1)*100 < 25]\n",
    "    null_values = df[df.isnull().mean(axis=1)*100 >= 25]\n",
    "    new_clean_data = not_null_values.copy()\n",
    "    \n",
    "    # select, re-encode, and engineer column values.\n",
    "    drop_binary_enc = pd.get_dummies(new_clean_data['OST_WEST_KZ'],dummy_na=False, drop_first= True)\n",
    "    new_clean_data['Location_E_W'] = drop_binary_enc\n",
    "    new_clean_data.drop('OST_WEST_KZ', axis=1, inplace=True)\n",
    "    \n",
    "    # Drop the multi catigorical columns.\n",
    "    new_clean_data.drop('CAMEO_DEUG_2015', axis=1, inplace=True)\n",
    "    new_clean_data.drop('CAMEO_DEU_2015', axis=1, inplace=True)\n",
    "    \n",
    "    # mixed values column\n",
    "    index_to_decade = { 1 :  1, 2 : 1, 3 :  2, 4 : 2, 5 :  3, 6 : 3,7 :  60, 8 : 70,\n",
    "                    9 :  70, 10: 80, 11:  80, 12: 80, 13:  80, 14: 90, 15:  90 }\n",
    "    \n",
    "    index_to_movement = { 1 : 1, 2 : 0, 3 : 1, 4 : 0, 5 :  1, 6 : 0, 7 : 0, 8 : 1,\n",
    "                      9 : 0, 10: 1, 11: 0, 12: 1, 13:  0, 14: 1, 15: 0 }\n",
    "    \n",
    "    new_clean_data['decade'] =  new_clean_data['PRAEGENDE_JUGENDJAHRE'].map(index_to_decade)\n",
    "    new_clean_data['movement'] =  new_clean_data['PRAEGENDE_JUGENDJAHRE'].map(index_to_movement)\n",
    "    new_clean_data.drop('PRAEGENDE_JUGENDJAHRE', axis=1, inplace=True)\n",
    "    \n",
    "    new_clean_data['C'] = new_clean_data['CAMEO_INTL_2015'].astype(str)\n",
    "    Wealth = new_clean_data['C'].str[0]\n",
    "    new_clean_data['Wealth'] = pd.to_numeric(Wealth, errors='coerce')\n",
    "    Life_Stage = new_clean_data['C'].str[1]\n",
    "    new_clean_data['Life_Stage'] = pd.to_numeric(Life_Stage, errors='coerce')\n",
    "    new_clean_data.drop('C', axis=1, inplace=True)\n",
    "    new_clean_data.drop('CAMEO_INTL_2015', axis=1, inplace=True)\n",
    "    \n",
    "    new_clean_data.drop('LP_LEBENSPHASE_FEIN', axis=1, inplace=True)\n",
    "    new_clean_data.drop('LP_LEBENSPHASE_GROB', axis=1, inplace=True)\n",
    "    new_clean_data.drop('WOHNLAGE', axis=1, inplace=True)\n",
    "    new_clean_data.drop('PLZ8_BAUMAX', axis=1, inplace=True)\n",
    "    \n",
    "    # Return the cleaned dataframe.\n",
    "    return  new_clean_data\n",
    "    "
   ]
  },
  {
   "cell_type": "code",
   "execution_count": 34,
   "metadata": {},
   "outputs": [
    {
     "data": {
      "text/plain": [
       "1434274"
      ]
     },
     "execution_count": 34,
     "metadata": {},
     "output_type": "execute_result"
    }
   ],
   "source": [
    "new_clean_data.isna().sum().sum()"
   ]
  },
  {
   "cell_type": "markdown",
   "metadata": {},
   "source": [
    "## Step 2: Feature Transformation\n",
    "\n",
    "### Step 2.1: Apply Feature Scaling\n",
    "\n",
    "Before we apply dimensionality reduction techniques to the data, we need to perform feature scaling so that the principal component vectors are not influenced by the natural differences in scale for features. Starting from this part of the project, you'll want to keep an eye on the [API reference page for sklearn](http://scikit-learn.org/stable/modules/classes.html) to help you navigate to all of the classes and functions that you'll need. In this substep, you'll need to check the following:\n",
    "\n",
    "- sklearn requires that data not have missing values in order for its estimators to work properly. So, before applying the scaler to your data, make sure that you've cleaned the DataFrame of the remaining missing values. This can be as simple as just removing all data points with missing data, or applying an [Imputer](http://scikit-learn.org/stable/modules/generated/sklearn.preprocessing.Imputer.html) to replace all missing values. You might also try a more complicated procedure where you temporarily remove missing values in order to compute the scaling parameters before re-introducing those missing values and applying imputation. Think about how much missing data you have and what possible effects each approach might have on your analysis, and justify your decision in the discussion section below.\n",
    "- For the actual scaling function, a [StandardScaler](http://scikit-learn.org/stable/modules/generated/sklearn.preprocessing.StandardScaler.html) instance is suggested, scaling each feature to mean 0 and standard deviation 1.\n",
    "- For these classes, you can make use of the `.fit_transform()` method to both fit a procedure to the data as well as apply the transformation to the data at the same time. Don't forget to keep the fit sklearn objects handy, since you'll be applying them to the customer demographics data towards the end of the project."
   ]
  },
  {
   "cell_type": "code",
   "execution_count": 35,
   "metadata": {},
   "outputs": [
    {
     "data": {
      "text/plain": [
       "(796960, 77)"
      ]
     },
     "execution_count": 35,
     "metadata": {},
     "output_type": "execute_result"
    }
   ],
   "source": [
    "# If you've not yet cleaned the dataset of all NaN values, then investigate and\n",
    "# do that now.\n",
    "imp = Imputer(missing_values='NaN', strategy='mean', axis=0)\n",
    "new_imp_df = pd.DataFrame(imp.fit_transform(new_clean_data))\n",
    "new_imp_df.columns = new_clean_data.columns\n",
    "new_imp_df.index = new_clean_data.index\n",
    "new_imp_df.isna().sum().sum()\n",
    "new_imp_df.shape"
   ]
  },
  {
   "cell_type": "code",
   "execution_count": 36,
   "metadata": {},
   "outputs": [
    {
     "data": {
      "text/plain": [
       "(796960, 77)"
      ]
     },
     "execution_count": 36,
     "metadata": {},
     "output_type": "execute_result"
    }
   ],
   "source": [
    "# Apply feature scaling to the general population demographics data.\n",
    "col_names = new_imp_df.columns\n",
    "scaler = StandardScaler()\n",
    "scaler.fit(new_imp_df)\n",
    "new = scaler.transform(new_imp_df)\n",
    "new_scaled_df = pd.DataFrame(new, columns=col_names)\n",
    "new_scaled_df.shape"
   ]
  },
  {
   "cell_type": "code",
   "execution_count": 37,
   "metadata": {},
   "outputs": [
    {
     "data": {
      "text/html": [
       "<div>\n",
       "<style scoped>\n",
       "    .dataframe tbody tr th:only-of-type {\n",
       "        vertical-align: middle;\n",
       "    }\n",
       "\n",
       "    .dataframe tbody tr th {\n",
       "        vertical-align: top;\n",
       "    }\n",
       "\n",
       "    .dataframe thead th {\n",
       "        text-align: right;\n",
       "    }\n",
       "</style>\n",
       "<table border=\"1\" class=\"dataframe\">\n",
       "  <thead>\n",
       "    <tr style=\"text-align: right;\">\n",
       "      <th></th>\n",
       "      <th>ALTERSKATEGORIE_GROB</th>\n",
       "      <th>ANREDE_KZ</th>\n",
       "      <th>CJT_GESAMTTYP</th>\n",
       "      <th>FINANZ_MINIMALIST</th>\n",
       "      <th>FINANZ_SPARER</th>\n",
       "      <th>FINANZ_VORSORGER</th>\n",
       "      <th>FINANZ_ANLEGER</th>\n",
       "      <th>FINANZ_UNAUFFAELLIGER</th>\n",
       "      <th>FINANZ_HAUSBAUER</th>\n",
       "      <th>FINANZTYP</th>\n",
       "      <th>...</th>\n",
       "      <th>PLZ8_HHZ</th>\n",
       "      <th>PLZ8_GBZ</th>\n",
       "      <th>ARBEIT</th>\n",
       "      <th>ORTSGR_KLS9</th>\n",
       "      <th>RELAT_AB</th>\n",
       "      <th>Location_E_W</th>\n",
       "      <th>decade</th>\n",
       "      <th>movement</th>\n",
       "      <th>Wealth</th>\n",
       "      <th>Life_Stage</th>\n",
       "    </tr>\n",
       "  </thead>\n",
       "  <tbody>\n",
       "    <tr>\n",
       "      <th>0</th>\n",
       "      <td>-1.765712</td>\n",
       "      <td>0.958046</td>\n",
       "      <td>0.976741</td>\n",
       "      <td>-1.494431</td>\n",
       "      <td>1.538097</td>\n",
       "      <td>-1.040643</td>\n",
       "      <td>1.466455</td>\n",
       "      <td>0.960105</td>\n",
       "      <td>1.338449</td>\n",
       "      <td>-1.342805</td>\n",
       "      <td>...</td>\n",
       "      <td>1.444589</td>\n",
       "      <td>0.564733</td>\n",
       "      <td>-0.167681</td>\n",
       "      <td>-0.127967</td>\n",
       "      <td>0.684383</td>\n",
       "      <td>0.517528</td>\n",
       "      <td>0.879025</td>\n",
       "      <td>0.553028</td>\n",
       "      <td>1.190633</td>\n",
       "      <td>-1.265844</td>\n",
       "    </tr>\n",
       "    <tr>\n",
       "      <th>1</th>\n",
       "      <td>0.201366</td>\n",
       "      <td>0.958046</td>\n",
       "      <td>-0.327946</td>\n",
       "      <td>-1.494431</td>\n",
       "      <td>0.864735</td>\n",
       "      <td>-1.766848</td>\n",
       "      <td>-0.570878</td>\n",
       "      <td>0.245363</td>\n",
       "      <td>1.338449</td>\n",
       "      <td>-1.342805</td>\n",
       "      <td>...</td>\n",
       "      <td>0.403207</td>\n",
       "      <td>0.564733</td>\n",
       "      <td>-0.167681</td>\n",
       "      <td>-0.127967</td>\n",
       "      <td>-0.789604</td>\n",
       "      <td>0.517528</td>\n",
       "      <td>0.879025</td>\n",
       "      <td>-1.874769</td>\n",
       "      <td>-0.865144</td>\n",
       "      <td>0.761773</td>\n",
       "    </tr>\n",
       "    <tr>\n",
       "      <th>2</th>\n",
       "      <td>1.184905</td>\n",
       "      <td>0.958046</td>\n",
       "      <td>-0.980290</td>\n",
       "      <td>0.683354</td>\n",
       "      <td>-0.481987</td>\n",
       "      <td>1.137972</td>\n",
       "      <td>-0.570878</td>\n",
       "      <td>-1.184122</td>\n",
       "      <td>-0.792663</td>\n",
       "      <td>1.055515</td>\n",
       "      <td>...</td>\n",
       "      <td>-0.638174</td>\n",
       "      <td>0.564733</td>\n",
       "      <td>-1.171344</td>\n",
       "      <td>-0.998560</td>\n",
       "      <td>-0.052610</td>\n",
       "      <td>0.517528</td>\n",
       "      <td>0.310547</td>\n",
       "      <td>0.553028</td>\n",
       "      <td>-1.550404</td>\n",
       "      <td>-0.589972</td>\n",
       "    </tr>\n",
       "  </tbody>\n",
       "</table>\n",
       "<p>3 rows × 77 columns</p>\n",
       "</div>"
      ],
      "text/plain": [
       "   ALTERSKATEGORIE_GROB  ANREDE_KZ  CJT_GESAMTTYP  FINANZ_MINIMALIST  \\\n",
       "0             -1.765712   0.958046       0.976741          -1.494431   \n",
       "1              0.201366   0.958046      -0.327946          -1.494431   \n",
       "2              1.184905   0.958046      -0.980290           0.683354   \n",
       "\n",
       "   FINANZ_SPARER  FINANZ_VORSORGER  FINANZ_ANLEGER  FINANZ_UNAUFFAELLIGER  \\\n",
       "0       1.538097         -1.040643        1.466455               0.960105   \n",
       "1       0.864735         -1.766848       -0.570878               0.245363   \n",
       "2      -0.481987          1.137972       -0.570878              -1.184122   \n",
       "\n",
       "   FINANZ_HAUSBAUER  FINANZTYP     ...      PLZ8_HHZ  PLZ8_GBZ    ARBEIT  \\\n",
       "0          1.338449  -1.342805     ...      1.444589  0.564733 -0.167681   \n",
       "1          1.338449  -1.342805     ...      0.403207  0.564733 -0.167681   \n",
       "2         -0.792663   1.055515     ...     -0.638174  0.564733 -1.171344   \n",
       "\n",
       "   ORTSGR_KLS9  RELAT_AB  Location_E_W    decade  movement    Wealth  \\\n",
       "0    -0.127967  0.684383      0.517528  0.879025  0.553028  1.190633   \n",
       "1    -0.127967 -0.789604      0.517528  0.879025 -1.874769 -0.865144   \n",
       "2    -0.998560 -0.052610      0.517528  0.310547  0.553028 -1.550404   \n",
       "\n",
       "   Life_Stage  \n",
       "0   -1.265844  \n",
       "1    0.761773  \n",
       "2   -0.589972  \n",
       "\n",
       "[3 rows x 77 columns]"
      ]
     },
     "execution_count": 37,
     "metadata": {},
     "output_type": "execute_result"
    }
   ],
   "source": [
    "new_scaled_df.head(3)"
   ]
  },
  {
   "cell_type": "markdown",
   "metadata": {},
   "source": [
    "### Discussion 2.1: Apply Feature Scaling\n",
    "\n",
    "After data reprocessing there were a number of Nans. But, before applying feature scaling the data must be without any Nans because of not efficting the result of the pca. So, an imputer used in order to clean the rest of Nans in the data."
   ]
  },
  {
   "cell_type": "markdown",
   "metadata": {},
   "source": [
    "### Step 2.2: Perform Dimensionality Reduction\n",
    "\n",
    "On your scaled data, you are now ready to apply dimensionality reduction techniques.\n",
    "\n",
    "- Use sklearn's [PCA](http://scikit-learn.org/stable/modules/generated/sklearn.decomposition.PCA.html) class to apply principal component analysis on the data, thus finding the vectors of maximal variance in the data. To start, you should not set any parameters (so all components are computed) or set a number of components that is at least half the number of features (so there's enough features to see the general trend in variability).\n",
    "- Check out the ratio of variance explained by each principal component as well as the cumulative variance explained. Try plotting the cumulative or sequential values using matplotlib's [`plot()`](https://matplotlib.org/api/_as_gen/matplotlib.pyplot.plot.html) function. Based on what you find, select a value for the number of transformed features you'll retain for the clustering part of the project.\n",
    "- Once you've made a choice for the number of components to keep, make sure you re-fit a PCA instance to perform the decided-on transformation."
   ]
  },
  {
   "cell_type": "code",
   "execution_count": 38,
   "metadata": {},
   "outputs": [
    {
     "data": {
      "text/plain": [
       "PCA(copy=True, iterated_power='auto', n_components=77, random_state=None,\n",
       "  svd_solver='auto', tol=0.0, whiten=False)"
      ]
     },
     "execution_count": 38,
     "metadata": {},
     "output_type": "execute_result"
    }
   ],
   "source": [
    "# Apply PCA to the data.\n",
    "pca = PCA(n_components=len(new_scaled_df.columns))\n",
    "pca.fit(new_scaled_df)"
   ]
  },
  {
   "cell_type": "code",
   "execution_count": 39,
   "metadata": {},
   "outputs": [
    {
     "data": {
      "text/plain": [
       "Text(0.5,1,'Explained Variance Per Principal Component')"
      ]
     },
     "execution_count": 39,
     "metadata": {},
     "output_type": "execute_result"
    },
    {
     "data": {
      "image/png": "[encoded data removed]",
      "text/plain": [
       "<matplotlib.figure.Figure at 0x7ff14e3a3c18>"
      ]
     },
     "metadata": {
      "needs_background": "light"
     },
     "output_type": "display_data"
    }
   ],
   "source": [
    "# Investigate the variance accounted for by each principal component.\n",
    "num_components=len(pca.explained_variance_ratio_)\n",
    "ind = np.arange(num_components)\n",
    "vals = pca.explained_variance_ratio_\n",
    " \n",
    "plt.figure(figsize=(18, 6))\n",
    "ax = plt.subplot(111)\n",
    "cumvals = np.cumsum(vals)\n",
    "\n",
    "ax.bar(ind, vals)\n",
    "ax.plot(ind, cumvals)\n",
    "\n",
    "for i in range(num_components):\n",
    "    ax.annotate(r\"%s%%\" % ((str(vals[i]*100)[:4])), (ind[i]+0.2, vals[i]), va=\"bottom\", ha=\"center\", fontsize=12)\n",
    "    \n",
    "ax.xaxis.set_tick_params(width=0)\n",
    "ax.yaxis.set_tick_params(width=2, length=12)\n",
    " \n",
    "ax.set_xlabel(\"Principal Component\")\n",
    "ax.set_ylabel(\"Variance Explained (%)\")\n",
    "plt.title('Explained Variance Per Principal Component')"
   ]
  },
  {
   "cell_type": "code",
   "execution_count": 40,
   "metadata": {},
   "outputs": [],
   "source": [
    "# Re-apply PCA to the data while selecting for number of components to retain.\n",
    "pca = PCA(n_components=45)\n",
    "pca.fit(new_scaled_df)\n",
    "new_pca = pca.transform(new_scaled_df)\n",
    "new_pca_df = pd.DataFrame(new_pca, columns=range(45))"
   ]
  },
  {
   "cell_type": "code",
   "execution_count": 41,
   "metadata": {},
   "outputs": [
    {
     "data": {
      "text/html": [
       "<div>\n",
       "<style scoped>\n",
       "    .dataframe tbody tr th:only-of-type {\n",
       "        vertical-align: middle;\n",
       "    }\n",
       "\n",
       "    .dataframe tbody tr th {\n",
       "        vertical-align: top;\n",
       "    }\n",
       "\n",
       "    .dataframe thead th {\n",
       "        text-align: right;\n",
       "    }\n",
       "</style>\n",
       "<table border=\"1\" class=\"dataframe\">\n",
       "  <thead>\n",
       "    <tr style=\"text-align: right;\">\n",
       "      <th></th>\n",
       "      <th>0</th>\n",
       "      <th>1</th>\n",
       "      <th>2</th>\n",
       "      <th>3</th>\n",
       "      <th>4</th>\n",
       "      <th>5</th>\n",
       "      <th>6</th>\n",
       "      <th>7</th>\n",
       "      <th>8</th>\n",
       "      <th>9</th>\n",
       "      <th>...</th>\n",
       "      <th>35</th>\n",
       "      <th>36</th>\n",
       "      <th>37</th>\n",
       "      <th>38</th>\n",
       "      <th>39</th>\n",
       "      <th>40</th>\n",
       "      <th>41</th>\n",
       "      <th>42</th>\n",
       "      <th>43</th>\n",
       "      <th>44</th>\n",
       "    </tr>\n",
       "  </thead>\n",
       "  <tbody>\n",
       "    <tr>\n",
       "      <th>0</th>\n",
       "      <td>4.713026</td>\n",
       "      <td>-2.905333</td>\n",
       "      <td>-2.872722</td>\n",
       "      <td>-0.319488</td>\n",
       "      <td>-0.214783</td>\n",
       "      <td>2.907858</td>\n",
       "      <td>2.291041</td>\n",
       "      <td>0.392186</td>\n",
       "      <td>-0.284591</td>\n",
       "      <td>-0.325881</td>\n",
       "      <td>...</td>\n",
       "      <td>-0.350912</td>\n",
       "      <td>0.652933</td>\n",
       "      <td>0.090047</td>\n",
       "      <td>-0.080582</td>\n",
       "      <td>-0.397438</td>\n",
       "      <td>-0.958413</td>\n",
       "      <td>0.189022</td>\n",
       "      <td>0.031433</td>\n",
       "      <td>0.045765</td>\n",
       "      <td>-1.414485</td>\n",
       "    </tr>\n",
       "    <tr>\n",
       "      <th>1</th>\n",
       "      <td>-0.194242</td>\n",
       "      <td>-0.131430</td>\n",
       "      <td>-3.409072</td>\n",
       "      <td>0.767929</td>\n",
       "      <td>-2.552696</td>\n",
       "      <td>0.247261</td>\n",
       "      <td>-0.149746</td>\n",
       "      <td>-0.188738</td>\n",
       "      <td>-2.203568</td>\n",
       "      <td>0.914536</td>\n",
       "      <td>...</td>\n",
       "      <td>0.503792</td>\n",
       "      <td>-0.675219</td>\n",
       "      <td>-1.263886</td>\n",
       "      <td>-0.432508</td>\n",
       "      <td>-0.313713</td>\n",
       "      <td>0.070336</td>\n",
       "      <td>-0.050494</td>\n",
       "      <td>-0.139900</td>\n",
       "      <td>0.405092</td>\n",
       "      <td>0.368383</td>\n",
       "    </tr>\n",
       "    <tr>\n",
       "      <th>2</th>\n",
       "      <td>-4.416658</td>\n",
       "      <td>1.405258</td>\n",
       "      <td>-0.734567</td>\n",
       "      <td>-1.044339</td>\n",
       "      <td>-0.273630</td>\n",
       "      <td>-0.987728</td>\n",
       "      <td>0.195417</td>\n",
       "      <td>0.455512</td>\n",
       "      <td>0.310581</td>\n",
       "      <td>-0.542098</td>\n",
       "      <td>...</td>\n",
       "      <td>1.200035</td>\n",
       "      <td>-0.399495</td>\n",
       "      <td>1.027385</td>\n",
       "      <td>-0.405384</td>\n",
       "      <td>-0.412654</td>\n",
       "      <td>-0.354150</td>\n",
       "      <td>0.095527</td>\n",
       "      <td>0.525563</td>\n",
       "      <td>1.621264</td>\n",
       "      <td>-1.149332</td>\n",
       "    </tr>\n",
       "  </tbody>\n",
       "</table>\n",
       "<p>3 rows × 45 columns</p>\n",
       "</div>"
      ],
      "text/plain": [
       "         0         1         2         3         4         5         6   \\\n",
       "0  4.713026 -2.905333 -2.872722 -0.319488 -0.214783  2.907858  2.291041   \n",
       "1 -0.194242 -0.131430 -3.409072  0.767929 -2.552696  0.247261 -0.149746   \n",
       "2 -4.416658  1.405258 -0.734567 -1.044339 -0.273630 -0.987728  0.195417   \n",
       "\n",
       "         7         8         9     ...           35        36        37  \\\n",
       "0  0.392186 -0.284591 -0.325881    ...    -0.350912  0.652933  0.090047   \n",
       "1 -0.188738 -2.203568  0.914536    ...     0.503792 -0.675219 -1.263886   \n",
       "2  0.455512  0.310581 -0.542098    ...     1.200035 -0.399495  1.027385   \n",
       "\n",
       "         38        39        40        41        42        43        44  \n",
       "0 -0.080582 -0.397438 -0.958413  0.189022  0.031433  0.045765 -1.414485  \n",
       "1 -0.432508 -0.313713  0.070336 -0.050494 -0.139900  0.405092  0.368383  \n",
       "2 -0.405384 -0.412654 -0.354150  0.095527  0.525563  1.621264 -1.149332  \n",
       "\n",
       "[3 rows x 45 columns]"
      ]
     },
     "execution_count": 41,
     "metadata": {},
     "output_type": "execute_result"
    }
   ],
   "source": [
    "new_pca_df.head(3)"
   ]
  },
  {
   "cell_type": "markdown",
   "metadata": {},
   "source": [
    "### Discussion 2.2: Perform Dimensionality Reduction\n",
    "\n",
    "- As shown in the first scree digram, when the sum of the comulitive of the Explained Variance values reaches more than 90% slightly, the number of principle components were 45.\n",
    "- So the number that will be fitted into the pca is 45."
   ]
  },
  {
   "cell_type": "markdown",
   "metadata": {},
   "source": [
    "### Step 2.3: Interpret Principal Components\n",
    "\n",
    "Now that we have our transformed principal components, it's a nice idea to check out the weight of each variable on the first few components to see if they can be interpreted in some fashion.\n",
    "\n",
    "As a reminder, each principal component is a unit vector that points in the direction of highest variance (after accounting for the variance captured by earlier principal components). The further a weight is from zero, the more the principal component is in the direction of the corresponding feature. If two features have large weights of the same sign (both positive or both negative), then increases in one tend expect to be associated with increases in the other. To contrast, features with different signs can be expected to show a negative correlation: increases in one variable should result in a decrease in the other.\n",
    "\n",
    "- To investigate the features, you should map each weight to their corresponding feature name, then sort the features according to weight. The most interesting features for each principal component, then, will be those at the beginning and end of the sorted list. Use the data dictionary document to help you understand these most prominent features, their relationships, and what a positive or negative value on the principal component might indicate.\n",
    "- You should investigate and interpret feature associations from the first three principal components in this substep. To help facilitate this, you should write a function that you can call at any time to print the sorted list of feature weights, for the *i*-th principal component. This might come in handy in the next step of the project, when you interpret the tendencies of the discovered clusters."
   ]
  },
  {
   "cell_type": "code",
   "execution_count": 42,
   "metadata": {},
   "outputs": [],
   "source": [
    "# Map weights for the first principal component to corresponding feature names\n",
    "# and then print the linked values, sorted by weight.\n",
    "# HINT: Try defining a function here or in a new cell that you can reuse in the\n",
    "# other cells.\n",
    "def map_wieght(pca, i):\n",
    "    dimensions =range(1,len(pca.components_)+1)\n",
    "    components = pd.DataFrame(np.round(pca.components_, 4), columns = list(new_scaled_df.keys()))\n",
    "    components.index = dimensions\n",
    "\n",
    "    from operator import itemgetter\n",
    "    c= components.loc[i].to_dict()\n",
    "    sorted_wieght = sorted(c.items(), reverse=True,key = itemgetter(1))\n",
    "    return sorted_wieght\n"
   ]
  },
  {
   "cell_type": "code",
   "execution_count": 43,
   "metadata": {},
   "outputs": [
    {
     "data": {
      "text/plain": [
       "[('PLZ8_ANTG3', 0.199),\n",
       " ('HH_EINKOMMEN_SCORE', 0.198),\n",
       " ('PLZ8_ANTG4', 0.1927),\n",
       " ('Wealth', 0.189),\n",
       " ('ORTSGR_KLS9', 0.17),\n",
       " ('EWDICHTE', 0.1686),\n",
       " ('FINANZ_HAUSBAUER', 0.1575),\n",
       " ('FINANZ_SPARER', 0.1428),\n",
       " ('ZABEOTYP', 0.1381),\n",
       " ('KBA05_ANTG4', 0.1377),\n",
       " ('PLZ8_ANTG2', 0.136),\n",
       " ('KBA05_ANTG3', 0.1267),\n",
       " ('ANZ_HAUSHALTE_AKTIV', 0.1236),\n",
       " ('ARBEIT', 0.1236),\n",
       " ('RELAT_AB', 0.117),\n",
       " ('movement', 0.1117),\n",
       " ('SEMIO_PFLICHT', 0.1088),\n",
       " ('SEMIO_REL', 0.1033),\n",
       " ('SEMIO_RAT', 0.0916),\n",
       " ('decade', 0.0909),\n",
       " ('SEMIO_TRADV', 0.0839),\n",
       " ('GEBURTSJAHR', 0.0829),\n",
       " ('FINANZ_ANLEGER', 0.075),\n",
       " ('FINANZ_UNAUFFAELLIGER', 0.0741),\n",
       " ('SEMIO_MAT', 0.0707),\n",
       " ('GEBAEUDETYP', 0.0704),\n",
       " ('REGIOTYP', 0.0673),\n",
       " ('SEMIO_FAM', 0.0666),\n",
       " ('GFK_URLAUBERTYP', 0.0654),\n",
       " ('SEMIO_KULT', 0.0617),\n",
       " ('NATIONALITAET_KZ', 0.0601),\n",
       " ('CJT_GESAMTTYP', 0.0486),\n",
       " ('KKK', 0.0428),\n",
       " ('SEMIO_KAEM', 0.0413),\n",
       " ('PLZ8_HHZ', 0.0379),\n",
       " ('W_KEIT_KIND_HH', 0.0366),\n",
       " ('ALTER_HH', 0.0352),\n",
       " ('SEMIO_SOZ', 0.0326),\n",
       " ('HEALTH_TYP', 0.0317),\n",
       " ('ANZ_HH_TITEL', 0.0288),\n",
       " ('SEMIO_DOM', 0.0273),\n",
       " ('VERS_TYP', 0.0239),\n",
       " ('ANREDE_KZ', 0.0151),\n",
       " ('KBA05_ANTG2', 0.0125),\n",
       " ('SEMIO_KRIT', 0.0119),\n",
       " ('SOHO_KZ', -0.0021),\n",
       " ('ANZ_TITEL', -0.0056),\n",
       " ('SHOPPER_TYP', -0.0073),\n",
       " ('RETOURTYP_BK_S', -0.0223),\n",
       " ('ONLINE_AFFINITAET', -0.0451),\n",
       " ('Location_E_W', -0.0459),\n",
       " ('SEMIO_VERT', -0.0462),\n",
       " ('MIN_GEBAEUDEJAHR', -0.0481),\n",
       " ('WOHNDAUER_2008', -0.0593),\n",
       " ('FINANZTYP', -0.0662),\n",
       " ('KBA13_ANZAHL_PKW', -0.0663),\n",
       " ('SEMIO_ERL', -0.0665),\n",
       " ('SEMIO_LUST', -0.0695),\n",
       " ('LP_FAMILIE_FEIN', -0.0803),\n",
       " ('LP_FAMILIE_GROB', -0.0822),\n",
       " ('ANZ_PERSONEN', -0.0827),\n",
       " ('GEBAEUDETYP_RASTER', -0.1039),\n",
       " ('BALLRAUM', -0.1081),\n",
       " ('FINANZ_VORSORGER', -0.1095),\n",
       " ('ALTERSKATEGORIE_GROB', -0.1129),\n",
       " ('GREEN_AVANTGARDE', -0.114),\n",
       " ('Life_Stage', -0.1146),\n",
       " ('INNENSTADT', -0.1411),\n",
       " ('PLZ8_GBZ', -0.1459),\n",
       " ('KONSUMNAEHE', -0.1477),\n",
       " ('KBA05_GBZ', -0.1985),\n",
       " ('PLZ8_ANTG1', -0.1989),\n",
       " ('KBA05_ANTG1', -0.2084),\n",
       " ('FINANZ_MINIMALIST', -0.2171),\n",
       " ('MOBI_REGIO', -0.2221),\n",
       " ('LP_STATUS_FEIN', -0.2247),\n",
       " ('LP_STATUS_GROB', -0.2249)]"
      ]
     },
     "execution_count": 43,
     "metadata": {},
     "output_type": "execute_result"
    }
   ],
   "source": [
    "s_w = map_wieght(pca, 1)\n",
    "s_w"
   ]
  },
  {
   "cell_type": "code",
   "execution_count": 44,
   "metadata": {},
   "outputs": [
    {
     "data": {
      "text/plain": [
       "[('ALTERSKATEGORIE_GROB', 0.2403),\n",
       " ('FINANZ_VORSORGER', 0.2224),\n",
       " ('SEMIO_ERL', 0.199),\n",
       " ('SEMIO_LUST', 0.1703),\n",
       " ('RETOURTYP_BK_S', 0.1614),\n",
       " ('W_KEIT_KIND_HH', 0.1362),\n",
       " ('FINANZ_HAUSBAUER', 0.117),\n",
       " ('FINANZTYP', 0.1042),\n",
       " ('SEMIO_KRIT', 0.0924),\n",
       " ('SHOPPER_TYP', 0.0901),\n",
       " ('PLZ8_ANTG3', 0.0887),\n",
       " ('PLZ8_ANTG4', 0.0847),\n",
       " ('EWDICHTE', 0.0839),\n",
       " ('ORTSGR_KLS9', 0.0828),\n",
       " ('SEMIO_KAEM', 0.0826),\n",
       " ('Wealth', 0.0755),\n",
       " ('KBA05_ANTG4', 0.0665),\n",
       " ('ARBEIT', 0.0652),\n",
       " ('FINANZ_MINIMALIST', 0.0651),\n",
       " ('ANZ_HAUSHALTE_AKTIV', 0.0621),\n",
       " ('ANREDE_KZ', 0.0616),\n",
       " ('HH_EINKOMMEN_SCORE', 0.0608),\n",
       " ('PLZ8_ANTG2', 0.0606),\n",
       " ('RELAT_AB', 0.0604),\n",
       " ('WOHNDAUER_2008', 0.0538),\n",
       " ('SEMIO_DOM', 0.0458),\n",
       " ('KBA05_ANTG3', 0.0438),\n",
       " ('ANZ_HH_TITEL', 0.0292),\n",
       " ('VERS_TYP', 0.0276),\n",
       " ('REGIOTYP', 0.021),\n",
       " ('movement', 0.021),\n",
       " ('GEBAEUDETYP', 0.0189),\n",
       " ('PLZ8_HHZ', 0.0117),\n",
       " ('ANZ_TITEL', 0.006),\n",
       " ('KKK', 0.0044),\n",
       " ('Life_Stage', 0.0007),\n",
       " ('SOHO_KZ', -0.002),\n",
       " ('KBA05_ANTG2', -0.0073),\n",
       " ('ZABEOTYP', -0.009),\n",
       " ('GREEN_AVANTGARDE', -0.0226),\n",
       " ('Location_E_W', -0.0296),\n",
       " ('GFK_URLAUBERTYP', -0.0305),\n",
       " ('KBA13_ANZAHL_PKW', -0.0345),\n",
       " ('LP_STATUS_GROB', -0.0348),\n",
       " ('GEBAEUDETYP_RASTER', -0.0427),\n",
       " ('SEMIO_VERT', -0.0453),\n",
       " ('MIN_GEBAEUDEJAHR', -0.0483),\n",
       " ('LP_STATUS_FEIN', -0.0534),\n",
       " ('BALLRAUM', -0.0543),\n",
       " ('HEALTH_TYP', -0.0553),\n",
       " ('NATIONALITAET_KZ', -0.0633),\n",
       " ('KONSUMNAEHE', -0.0664),\n",
       " ('INNENSTADT', -0.0684),\n",
       " ('PLZ8_GBZ', -0.0688),\n",
       " ('SEMIO_SOZ', -0.0776),\n",
       " ('KBA05_ANTG1', -0.0792),\n",
       " ('ANZ_PERSONEN', -0.0808),\n",
       " ('KBA05_GBZ', -0.0857),\n",
       " ('PLZ8_ANTG1', -0.0875),\n",
       " ('LP_FAMILIE_FEIN', -0.0879),\n",
       " ('MOBI_REGIO', -0.0879),\n",
       " ('LP_FAMILIE_GROB', -0.0889),\n",
       " ('CJT_GESAMTTYP', -0.1207),\n",
       " ('SEMIO_MAT', -0.1406),\n",
       " ('SEMIO_FAM', -0.1509),\n",
       " ('SEMIO_RAT', -0.1653),\n",
       " ('ONLINE_AFFINITAET', -0.1716),\n",
       " ('SEMIO_KULT', -0.1847),\n",
       " ('ALTER_HH', -0.1985),\n",
       " ('GEBURTSJAHR', -0.2003),\n",
       " ('FINANZ_ANLEGER', -0.2017),\n",
       " ('SEMIO_PFLICHT', -0.2096),\n",
       " ('SEMIO_TRADV', -0.2119),\n",
       " ('FINANZ_UNAUFFAELLIGER', -0.2205),\n",
       " ('SEMIO_REL', -0.2256),\n",
       " ('FINANZ_SPARER', -0.2265),\n",
       " ('decade', -0.2293)]"
      ]
     },
     "execution_count": 44,
     "metadata": {},
     "output_type": "execute_result"
    }
   ],
   "source": [
    "# Map weights for the second principal component to corresponding feature names\n",
    "# and then print the linked values, sorted by weight.\n",
    "s_w = map_wieght(pca, 2)\n",
    "s_w"
   ]
  },
  {
   "cell_type": "code",
   "execution_count": 45,
   "metadata": {},
   "outputs": [
    {
     "data": {
      "text/plain": [
       "[('SEMIO_VERT', 0.3362),\n",
       " ('SEMIO_FAM', 0.2675),\n",
       " ('SEMIO_SOZ', 0.2657),\n",
       " ('SEMIO_KULT', 0.257),\n",
       " ('FINANZ_MINIMALIST', 0.134),\n",
       " ('SEMIO_REL', 0.1048),\n",
       " ('FINANZTYP', 0.103),\n",
       " ('RETOURTYP_BK_S', 0.0896),\n",
       " ('W_KEIT_KIND_HH', 0.0879),\n",
       " ('SEMIO_MAT', 0.0784),\n",
       " ('FINANZ_VORSORGER', 0.0687),\n",
       " ('PLZ8_ANTG4', 0.0474),\n",
       " ('PLZ8_ANTG3', 0.0469),\n",
       " ('ORTSGR_KLS9', 0.0459),\n",
       " ('EWDICHTE', 0.0443),\n",
       " ('ALTERSKATEGORIE_GROB', 0.0389),\n",
       " ('ARBEIT', 0.0375),\n",
       " ('GREEN_AVANTGARDE', 0.0372),\n",
       " ('SEMIO_LUST', 0.0356),\n",
       " ('Wealth', 0.0325),\n",
       " ('RELAT_AB', 0.0315),\n",
       " ('PLZ8_ANTG2', 0.0303),\n",
       " ('KBA05_ANTG4', 0.0272),\n",
       " ('LP_STATUS_GROB', 0.0265),\n",
       " ('ANZ_HAUSHALTE_AKTIV', 0.0261),\n",
       " ('WOHNDAUER_2008', 0.0214),\n",
       " ('LP_STATUS_FEIN', 0.0134),\n",
       " ('GEBAEUDETYP', 0.0115),\n",
       " ('VERS_TYP', 0.0113),\n",
       " ('ANZ_HH_TITEL', 0.0113),\n",
       " ('KBA05_ANTG3', 0.0109),\n",
       " ('ANZ_TITEL', 0.008),\n",
       " ('PLZ8_HHZ', 0.0033),\n",
       " ('SOHO_KZ', 0.0002),\n",
       " ('REGIOTYP', -0.0012),\n",
       " ('KBA05_ANTG2', -0.0086),\n",
       " ('KKK', -0.0099),\n",
       " ('HH_EINKOMMEN_SCORE', -0.0102),\n",
       " ('HEALTH_TYP', -0.0136),\n",
       " ('GFK_URLAUBERTYP', -0.0146),\n",
       " ('NATIONALITAET_KZ', -0.0155),\n",
       " ('Life_Stage', -0.0158),\n",
       " ('MIN_GEBAEUDEJAHR', -0.0169),\n",
       " ('ANZ_PERSONEN', -0.0182),\n",
       " ('Location_E_W', -0.021),\n",
       " ('KBA13_ANZAHL_PKW', -0.0253),\n",
       " ('CJT_GESAMTTYP', -0.0271),\n",
       " ('KBA05_ANTG1', -0.0278),\n",
       " ('KBA05_GBZ', -0.028),\n",
       " ('LP_FAMILIE_FEIN', -0.0282),\n",
       " ('LP_FAMILIE_GROB', -0.0296),\n",
       " ('GEBAEUDETYP_RASTER', -0.0317),\n",
       " ('MOBI_REGIO', -0.033),\n",
       " ('BALLRAUM', -0.0331),\n",
       " ('movement', -0.0351),\n",
       " ('KONSUMNAEHE', -0.0382),\n",
       " ('PLZ8_GBZ', -0.041),\n",
       " ('FINANZ_HAUSBAUER', -0.0414),\n",
       " ('SEMIO_PFLICHT', -0.0422),\n",
       " ('INNENSTADT', -0.0422),\n",
       " ('SEMIO_TRADV', -0.0434),\n",
       " ('ONLINE_AFFINITAET', -0.0458),\n",
       " ('PLZ8_ANTG1', -0.049),\n",
       " ('ZABEOTYP', -0.0519),\n",
       " ('GEBURTSJAHR', -0.0647),\n",
       " ('ALTER_HH', -0.0659),\n",
       " ('FINANZ_SPARER', -0.0735),\n",
       " ('decade', -0.0752),\n",
       " ('FINANZ_UNAUFFAELLIGER', -0.0757),\n",
       " ('SHOPPER_TYP', -0.1385),\n",
       " ('FINANZ_ANLEGER', -0.1589),\n",
       " ('SEMIO_RAT', -0.1834),\n",
       " ('SEMIO_ERL', -0.2024),\n",
       " ('SEMIO_KRIT', -0.2769),\n",
       " ('SEMIO_DOM', -0.3102),\n",
       " ('SEMIO_KAEM', -0.336),\n",
       " ('ANREDE_KZ', -0.3651)]"
      ]
     },
     "execution_count": 45,
     "metadata": {},
     "output_type": "execute_result"
    }
   ],
   "source": [
    "# Map weights for the third principal component to corresponding feature names\n",
    "# and then print the linked values, sorted by weight.\n",
    "s_w = map_wieght(pca, 3)\n",
    "s_w"
   ]
  },
  {
   "cell_type": "markdown",
   "metadata": {},
   "source": [
    "### Discussion 2.3: Interpret Principal Components\n",
    "\n",
    "Each principal component captures information from the original data as much as the corelations between the variables.\n",
    "Those varibles which has a high positive wieght has more effict on the dimention, but those with negative wieght are negativly correlated to other data in the dimention.\n",
    "\n",
    "- Fisrt principal component:\n",
    "*positive\n",
    "-- ('PLZ8_ANTG3', 0.199), Number of 6-10 family houses in the PLZ8 region\n",
    "-- ('HH_EINKOMMEN_SCORE', 0.198),Estimated household net income\n",
    "*negative\n",
    "-- ('LP_STATUS_FEIN', -0.2247), Social status, fine scale\n",
    "-- ('LP_STATUS_GROB', -0.2249), Social status, rough scale\n",
    "\n",
    "\n",
    "- Second principal component\n",
    "*positive\n",
    "-- ('ALTERSKATEGORIE_GROB', 0.2403),Estimated age based on given name analysis\n",
    "-- ('FINANZ_VORSORGER', 0.2224),Financial typology, for each dimension:be prepared\n",
    "*negative\n",
    "-- ('FINANZ_SPARER', -0.2265),money-saver:Financial typology, for each dimension\n",
    "-- ('decade', -0.2293), Dominating movement of person's youth (avantgarde vs. mainstream; east vs. west)\n",
    "\n",
    "\n",
    "- Third principal component\n",
    "*positive\n",
    "-- ('SEMIO_VERT', 0.3362),Personality typology, for each dimension:dreamful\n",
    "-- ('SEMIO_FAM', 0.2675), ,Personality typology, for each dimension:family-minded\n",
    "*negative\n",
    "-- ('SEMIO_KAEM', -0.336),Personality typology, for each dimension:combative attitude\n",
    "-- ('ANREDE_KZ', -0.3651), Gender"
   ]
  },
  {
   "cell_type": "markdown",
   "metadata": {},
   "source": [
    "## Step 3: Clustering\n",
    "\n",
    "### Step 3.1: Apply Clustering to General Population\n",
    "\n",
    "You've assessed and cleaned the demographics data, then scaled and transformed them. Now, it's time to see how the data clusters in the principal components space. In this substep, you will apply k-means clustering to the dataset and use the average within-cluster distances from each point to their assigned cluster's centroid to decide on a number of clusters to keep.\n",
    "\n",
    "- Use sklearn's [KMeans](http://scikit-learn.org/stable/modules/generated/sklearn.cluster.KMeans.html#sklearn.cluster.KMeans) class to perform k-means clustering on the PCA-transformed data.\n",
    "- Then, compute the average difference from each point to its assigned cluster's center. **Hint**: The KMeans object's `.score()` method might be useful here, but note that in sklearn, scores tend to be defined so that larger is better. Try applying it to a small, toy dataset, or use an internet search to help your understanding.\n",
    "- Perform the above two steps for a number of different cluster counts. You can then see how the average distance decreases with an increasing number of clusters. However, each additional cluster provides a smaller net benefit. Use this fact to select a final number of clusters in which to group the data. **Warning**: because of the large size of the dataset, it can take a long time for the algorithm to resolve. The more clusters to fit, the longer the algorithm will take. You should test for cluster counts through at least 10 clusters to get the full picture, but you shouldn't need to test for a number of clusters above about 30.\n",
    "- Once you've selected a final number of clusters to use, re-fit a KMeans instance to perform the clustering operation. Make sure that you also obtain the cluster assignments for the general demographics data, since you'll be using them in the final Step 3.3."
   ]
  },
  {
   "cell_type": "code",
   "execution_count": 46,
   "metadata": {},
   "outputs": [],
   "source": [
    "# Over a number of different cluster counts..\n",
    "def get_k_score(new_pca_df,center):\n",
    "# run k-means clustering on the data and...\n",
    "        kmeans = KMeans(n_clusters=center)\n",
    "        kmodel = kmeans.fit(new_pca_df)\n",
    "    \n",
    "# compute the average within-cluster distances.\n",
    "        score = np.abs(kmodel.score(new_pca_df))\n",
    "        return score\n",
    "\n",
    "scores = []\n",
    "centers = list(range(1,11))\n",
    "\n",
    "for center in centers:\n",
    "    scores.append(get_k_score(new_pca_df, center))"
   ]
  },
  {
   "cell_type": "code",
   "execution_count": 56,
   "metadata": {},
   "outputs": [
    {
     "data": {
      "image/png": "[encoded data removed]",
      "text/plain": [
       "<matplotlib.figure.Figure at 0x7ff14c915a20>"
      ]
     },
     "metadata": {
      "needs_background": "light"
     },
     "output_type": "display_data"
    }
   ],
   "source": [
    "# Investigate the change in within-cluster distance across number of clusters.\n",
    "# HINT: Use matplotlib's plot function to visualize this relationship.\n",
    "plt.plot(centers, scores, linestyle='--', marker='o', color='b');\n",
    "plt.xlabel('K');\n",
    "plt.ylabel('SSE');\n",
    "plt.title('SSE vs. K');"
   ]
  },
  {
   "cell_type": "code",
   "execution_count": 57,
   "metadata": {},
   "outputs": [],
   "source": [
    "# Re-fit the k-means model with the selected number of clusters and obtain\n",
    "# cluster predictions for the general population demographics data.\n",
    "kmeans = KMeans(n_clusters=6)\n",
    "kmodel = kmeans.fit(new_pca_df)\n",
    "kpreds = kmodel.predict(new_pca_df)"
   ]
  },
  {
   "cell_type": "markdown",
   "metadata": {},
   "source": [
    "### Discussion 3.1: Apply Clustering to General Population\n",
    "\n",
    "After applying k-means clustring over a number of different cluster counts, based on the plot the best clusters number was 6."
   ]
  },
  {
   "cell_type": "markdown",
   "metadata": {},
   "source": [
    "### Step 3.2: Apply All Steps to the Customer Data\n",
    "\n",
    "Now that you have clusters and cluster centers for the general population, it's time to see how the customer data maps on to those clusters. Take care to not confuse this for re-fitting all of the models to the customer data. Instead, you're going to use the fits from the general population to clean, transform, and cluster the customer data. In the last step of the project, you will interpret how the general population fits apply to the customer data.\n",
    "\n",
    "- Don't forget when loading in the customers data, that it is semicolon (`;`) delimited.\n",
    "- Apply the same feature wrangling, selection, and engineering steps to the customer demographics using the `clean_data()` function you created earlier. (You can assume that the customer demographics data has similar meaning behind missing data patterns as the general demographics data.)\n",
    "- Use the sklearn objects from the general demographics data, and apply their transformations to the customers data. That is, you should not be using a `.fit()` or `.fit_transform()` method to re-fit the old objects, nor should you be creating new sklearn objects! Carry the data through the feature scaling, PCA, and clustering steps, obtaining cluster assignments for all of the data in the customer demographics data."
   ]
  },
  {
   "cell_type": "code",
   "execution_count": 58,
   "metadata": {},
   "outputs": [],
   "source": [
    "# Load in the customer demographics data.\n",
    "customers = pd.read_csv(\"Udacity_CUSTOMERS_Subset.csv\", sep=';')"
   ]
  },
  {
   "cell_type": "code",
   "execution_count": 59,
   "metadata": {},
   "outputs": [],
   "source": [
    "# Apply preprocessing, feature transformation, and clustering from the general\n",
    "# demographics onto the customer data, obtaining cluster predictions for the\n",
    "# customer demographics data.\n",
    "customers_clean_data = clean_data(customers)\n",
    "\n",
    "# Apply imputer to Customer Data..\n",
    "cutomer_impute = imp.transform(customers_clean_data)\n",
    "cutomer_impute_df = pd.DataFrame(cutomer_impute)\n",
    "cutomer_impute_df.columns = customers_clean_data.columns\n",
    "cutomer_impute_df.index = customers_clean_data.index\n",
    "\n",
    "# Apply feature scaling to Customer Data..\n",
    "customer_scaler = scaler.transform(cutomer_impute_df)\n",
    "customer_scaler_df = pd.DataFrame(customer_scaler)\n",
    "customer_scaler_df.columns = cutomer_impute_df.columns\n",
    "customer_scaler_df.index = cutomer_impute_df.index\n",
    "\n",
    "# Apply PCA to Customer Data..\n",
    "customer_pca = pca.transform(customer_scaler_df)\n",
    "customer_pca_df = pd.DataFrame(customer_pca)#columns=range(25)\n",
    "\n",
    "# Appply K-mean to Customer Data.. \n",
    "c_kmeans = KMeans(n_clusters=6)\n",
    "#c_kmodel = kmeans.fit(customer_pca_df)\n",
    "c_kpreds = kmodel.predict(customer_pca_df)"
   ]
  },
  {
   "cell_type": "markdown",
   "metadata": {},
   "source": [
    "### Step 3.3: Compare Customer Data to Demographics Data\n",
    "\n",
    "At this point, you have clustered data based on demographics of the general population of Germany, and seen how the customer data for a mail-order sales company maps onto those demographic clusters. In this final substep, you will compare the two cluster distributions to see where the strongest customer base for the company is.\n",
    "\n",
    "Consider the proportion of persons in each cluster for the general population, and the proportions for the customers. If we think the company's customer base to be universal, then the cluster assignment proportions should be fairly similar between the two. If there are only particular segments of the population that are interested in the company's products, then we should see a mismatch from one to the other. If there is a higher proportion of persons in a cluster for the customer data compared to the general population (e.g. 5% of persons are assigned to a cluster for the general population, but 15% of the customer data is closest to that cluster's centroid) then that suggests the people in that cluster to be a target audience for the company. On the other hand, the proportion of the data in a cluster being larger in the general population than the customer data (e.g. only 2% of customers closest to a population centroid that captures 6% of the data) suggests that group of persons to be outside of the target demographics.\n",
    "\n",
    "Take a look at the following points in this step:\n",
    "\n",
    "- Compute the proportion of data points in each cluster for the general population and the customer data. Visualizations will be useful here: both for the individual dataset proportions, but also to visualize the ratios in cluster representation between groups. Seaborn's [`countplot()`](https://seaborn.pydata.org/generated/seaborn.countplot.html) or [`barplot()`](https://seaborn.pydata.org/generated/seaborn.barplot.html) function could be handy.\n",
    "  - Recall the analysis you performed in step 1.1.3 of the project, where you separated out certain data points from the dataset if they had more than a specified threshold of missing values. If you found that this group was qualitatively different from the main bulk of the data, you should treat this as an additional data cluster in this analysis. Make sure that you account for the number of data points in this subset, for both the general population and customer datasets, when making your computations!\n",
    "- Which cluster or clusters are overrepresented in the customer dataset compared to the general population? Select at least one such cluster and infer what kind of people might be represented by that cluster. Use the principal component interpretations from step 2.3 or look at additional components to help you make this inference. Alternatively, you can use the `.inverse_transform()` method of the PCA and StandardScaler objects to transform centroids back to the original data space and interpret the retrieved values directly.\n",
    "- Perform a similar investigation for the underrepresented clusters. Which cluster or clusters are underrepresented in the customer dataset compared to the general population, and what kinds of people are typified by these clusters?"
   ]
  },
  {
   "cell_type": "code",
   "execution_count": 60,
   "metadata": {},
   "outputs": [
    {
     "data": {
      "image/png": "[encoded data removed]",
      "text/plain": [
       "<matplotlib.figure.Figure at 0x7ff14c902630>"
      ]
     },
     "metadata": {
      "needs_background": "light"
     },
     "output_type": "display_data"
    }
   ],
   "source": [
    "# Compare the proportion of data in each cluster for the customer data to the\n",
    "# proportion of data in each cluster for the general population.\n",
    "plt.subplot(1,2,1)\n",
    "plt.title(\"General Data\")\n",
    "ax = sns.countplot(kpreds)\n",
    "plt.subplot(1,2,2)\n",
    "plt.title(\"Customer Data\")\n",
    "ax = sns.countplot(c_kpreds)\n",
    "plt.tight_layout(pad = 3)\n",
    "plt.show()"
   ]
  },
  {
   "cell_type": "code",
   "execution_count": 65,
   "metadata": {},
   "outputs": [],
   "source": [
    "# What kinds of people are part of a cluster that is overrepresented in the\n",
    "# customer data compared to the general population?\n",
    "centroid_5 = scaler.inverse_transform(pca.inverse_transform(kmodel.cluster_centers_[5]))\n",
    "overrepresented = pd.Series(data = centroid_5, index = customers_clean_data.columns)"
   ]
  },
  {
   "cell_type": "code",
   "execution_count": 72,
   "metadata": {},
   "outputs": [
    {
     "data": {
      "text/plain": [
       "ALTERSKATEGORIE_GROB        3.315448\n",
       "ANREDE_KZ                   1.064387\n",
       "CJT_GESAMTTYP               2.945855\n",
       "FINANZ_MINIMALIST           4.694948\n",
       "FINANZ_SPARER               1.567567\n",
       "FINANZ_VORSORGER            4.284204\n",
       "FINANZ_ANLEGER              1.738768\n",
       "FINANZ_UNAUFFAELLIGER       1.957537\n",
       "FINANZ_HAUSBAUER            2.122045\n",
       "FINANZTYP                   4.741453\n",
       "GEBURTSJAHR              1960.216651\n",
       "GFK_URLAUBERTYP             6.548646\n",
       "GREEN_AVANTGARDE            0.393611\n",
       "HEALTH_TYP                  2.188178\n",
       "LP_FAMILIE_FEIN             4.398220\n",
       "LP_FAMILIE_GROB             2.593426\n",
       "LP_STATUS_FEIN              7.981198\n",
       "LP_STATUS_GROB              3.879528\n",
       "NATIONALITAET_KZ            1.057511\n",
       "RETOURTYP_BK_S              3.942853\n",
       "SEMIO_SOZ                   4.699161\n",
       "SEMIO_FAM                   4.796345\n",
       "SEMIO_REL                   3.704450\n",
       "SEMIO_MAT                   3.688546\n",
       "SEMIO_VERT                  6.068960\n",
       "SEMIO_LUST                  5.034431\n",
       "SEMIO_ERL                   4.219870\n",
       "SEMIO_KULT                  4.881945\n",
       "SEMIO_RAT                   2.672281\n",
       "SEMIO_KRIT                  3.369269\n",
       "SEMIO_DOM                   3.191506\n",
       "SEMIO_KAEM                  2.619248\n",
       "SEMIO_PFLICHT               3.219576\n",
       "SEMIO_TRADV                 3.078598\n",
       "SHOPPER_TYP                 1.334581\n",
       "SOHO_KZ                     0.008748\n",
       "VERS_TYP                    1.550484\n",
       "ZABEOTYP                    2.559643\n",
       "ALTER_HH                   14.408939\n",
       "ANZ_PERSONEN                1.954513\n",
       "ANZ_TITEL                   0.007093\n",
       "HH_EINKOMMEN_SCORE          3.284864\n",
       "W_KEIT_KIND_HH              4.263404\n",
       "WOHNDAUER_2008              8.331529\n",
       "ANZ_HAUSHALTE_AKTIV         2.474421\n",
       "ANZ_HH_TITEL                0.013544\n",
       "GEBAEUDETYP                 2.243787\n",
       "KONSUMNAEHE                 3.644982\n",
       "MIN_GEBAEUDEJAHR         1993.578927\n",
       "KBA05_ANTG1                 2.447575\n",
       "dtype: float64"
      ]
     },
     "execution_count": 72,
     "metadata": {},
     "output_type": "execute_result"
    }
   ],
   "source": [
    "overrepresented.head(50)"
   ]
  },
  {
   "cell_type": "code",
   "execution_count": 79,
   "metadata": {},
   "outputs": [],
   "source": [
    "# What kinds of people are part of a cluster that is underrepresented in the\n",
    "# customer data compared to the general population?\n",
    "centroid_3 = scaler.inverse_transform(pca.inverse_transform(kmodel.cluster_centers_[3]))\n",
    "underrepresented = pd.Series(data =centroid_3, index = customers_clean_data.columns)"
   ]
  },
  {
   "cell_type": "code",
   "execution_count": 80,
   "metadata": {},
   "outputs": [
    {
     "data": {
      "text/plain": [
       "ALTERSKATEGORIE_GROB        1.834796\n",
       "ANREDE_KZ                   2.006353\n",
       "CJT_GESAMTTYP               4.082292\n",
       "FINANZ_MINIMALIST           1.304405\n",
       "FINANZ_SPARER               4.213635\n",
       "FINANZ_VORSORGER            2.233932\n",
       "FINANZ_ANLEGER              4.126971\n",
       "FINANZ_UNAUFFAELLIGER       3.818229\n",
       "FINANZ_HAUSBAUER            4.075021\n",
       "FINANZTYP                   1.942251\n",
       "GEBURTSJAHR              1975.681164\n",
       "GFK_URLAUBERTYP             8.688673\n",
       "GREEN_AVANTGARDE            0.054594\n",
       "HEALTH_TYP                  2.238236\n",
       "LP_FAMILIE_FEIN             3.174192\n",
       "LP_FAMILIE_GROB             2.055375\n",
       "LP_STATUS_FEIN              2.151060\n",
       "LP_STATUS_GROB              1.242063\n",
       "NATIONALITAET_KZ            1.350034\n",
       "RETOURTYP_BK_S              2.631269\n",
       "SEMIO_SOZ                   3.043344\n",
       "SEMIO_FAM                   3.788614\n",
       "SEMIO_REL                   5.123405\n",
       "SEMIO_MAT                   4.679408\n",
       "SEMIO_VERT                  2.285055\n",
       "SEMIO_LUST                  3.325179\n",
       "SEMIO_ERL                   4.531200\n",
       "SEMIO_KULT                  3.905075\n",
       "SEMIO_RAT                   5.925430\n",
       "SEMIO_KRIT                  5.534583\n",
       "SEMIO_DOM                   6.134533\n",
       "SEMIO_KAEM                  6.076677\n",
       "SEMIO_PFLICHT               5.923527\n",
       "SEMIO_TRADV                 5.341887\n",
       "SHOPPER_TYP                 1.775132\n",
       "SOHO_KZ                     0.008000\n",
       "VERS_TYP                    1.474864\n",
       "ZABEOTYP                    4.354784\n",
       "ALTER_HH                   16.787400\n",
       "ANZ_PERSONEN                1.498445\n",
       "ANZ_TITEL                   0.002047\n",
       "HH_EINKOMMEN_SCORE          5.451382\n",
       "W_KEIT_KIND_HH              3.887532\n",
       "WOHNDAUER_2008              7.262875\n",
       "ANZ_HAUSHALTE_AKTIV        12.820814\n",
       "ANZ_HH_TITEL                0.048510\n",
       "GEBAEUDETYP                 3.376899\n",
       "KONSUMNAEHE                 2.316163\n",
       "MIN_GEBAEUDEJAHR         1992.586523\n",
       "KBA05_ANTG1                 0.640392\n",
       "dtype: float64"
      ]
     },
     "execution_count": 80,
     "metadata": {},
     "output_type": "execute_result"
    }
   ],
   "source": [
    "underrepresented.head(50)"
   ]
  },
  {
   "cell_type": "markdown",
   "metadata": {},
   "source": [
    "### Discussion 3.3: Compare Customer Data to Demographics Data\n",
    "\n",
    "**cluster 1| overrepresented: \n",
    "In this cluster we will describe those who are in a population that are relatively popular with the - mail-order company Based on the flowing features:**\n",
    "\n",
    "1- HH_EINKOMMEN_SCORE(3.284864)| Estimated household net income/ high income\n",
    "\n",
    "2- LP_FAMILIE_FEIN(4.398220)|Family type, fine scale/ single parent with teenager\n",
    "\n",
    "3- ALTER_HH(14.408939)| Birthdate of head of household/ 1960-01-01 to 1964-12-31\n",
    "\n",
    "4- Personality typology: SEMIO_KRIT(3.369269)| critical-minded/ high affinity\n",
    "\n",
    "5- Personality typology: SEMIO_KAEM(2.619248)| combative attitude/ very high affinity\n",
    "\n",
    "This group have a high income, a single parent with teenager, The Birthdate of head thier household was in the duration: 1960-01-01 to 1964-12-31. Moreover, they are critical-minded and combative attitude.\n",
    "\n",
    "\n",
    "**Cluster 4| In this cluster we will describe those who are relatively unpopular with the company -underrepresented-:**\n",
    "\n",
    "1- HH_EINKOMMEN_SCORE(5.451382): Estimated household net income/ lower income\n",
    "\n",
    "2- LP_FAMILIE_FEIN(3.174192): Family type, fine scale/ young single parent\n",
    "\n",
    "3- ALTER_HH(16.787400): Birthdate of head of household/ 1970-01-01 to 1974-12-31\n",
    "\n",
    "4- Personality typology: SEMIO_KRIT(5.534583)| critical-minded/ low affinity\n",
    " \n",
    "5- Personality typology: SEMIO_KAEM(6.076677)| combative attitude/ very low affinity\n",
    " \n",
    "On the other hand, the relatively unpopular population with the company. The family has a young single parent with lower income. The Birthdate of head thier household was in the duration:1970-01-01 to 1974-12-31. Moreover, they are have a personality with lower critical-minded and a very low combative attitude."
   ]
  },
  {
   "cell_type": "markdown",
   "metadata": {},
   "source": [
    "> Congratulations on making it this far in the project! Before you finish, make sure to check through the entire notebook from top to bottom to make sure that your analysis follows a logical flow and all of your findings are documented in **Discussion** cells. Once you've checked over all of your work, you should export the notebook as an HTML document to submit for evaluation. You can do this from the menu, navigating to **File -> Download as -> HTML (.html)**. You will submit both that document and this notebook for your project submission."
   ]
  },
  {
   "cell_type": "code",
   "execution_count": null,
   "metadata": {},
   "outputs": [],
   "source": [
    "!!jupyter nbconvert *.ipynb"
   ]
  },
  {
   "cell_type": "code",
   "execution_count": null,
   "metadata": {},
   "outputs": [],
   "source": []
  }
 ],
 "metadata": {
  "kernelspec": {
   "display_name": "Python 3",
   "language": "python",
   "name": "python3"
  },
  "language_info": {
   "codemirror_mode": {
    "name": "ipython",
    "version": 3
   },
   "file_extension": ".py",
   "mimetype": "text/x-python",
   "name": "python",
   "nbconvert_exporter": "python",
   "pygments_lexer": "ipython3",
   "version": "3.6.3"
  }
 },
 "nbformat": 4,
 "nbformat_minor": 2
}
